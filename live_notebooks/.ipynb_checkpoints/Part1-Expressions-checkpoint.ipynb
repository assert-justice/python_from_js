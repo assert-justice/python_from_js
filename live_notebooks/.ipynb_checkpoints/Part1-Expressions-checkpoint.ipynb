{
 "cells": [
  {
   "cell_type": "markdown",
   "metadata": {},
   "source": [
    "# Part 1 - Expressions\n",
    "Welcome to this spiel. This lesson assumes familiarity with JavaScript and is designed to teach python to JS programmers. A lot of attention will be paid to how Python might challenge the assumptions of that audience. Tally-ho!\n",
    "Expressions and Actual Types\n",
    "\n",
    "As you should know:\n",
    "\n",
    "> An expression in a programming language is a syntactic entity that may be evaluated to determine its value.\n",
    "\n",
    "Below are some examples of expressions that should work as you expect. Note the use of the print function, this is equivalent to JS's console.log."
   ]
  },
  {
   "cell_type": "code",
   "execution_count": 38,
   "metadata": {
    "collapsed": false
   },
   "outputs": [
    {
     "name": "stdout",
     "output_type": "stream",
     "text": [
      "10\n",
      "hello world\n",
      "hello everyone!\n",
      "125\n"
     ]
    }
   ],
   "source": [
    "# Expression examples\n",
    "print(5 + 5)\n",
    "print(\"hello world\")\n",
    "print(\"hello\" + \" \" + \"everyone!\")\n",
    "print(5 ** 3)"
   ]
  },
  {
   "cell_type": "markdown",
   "metadata": {},
   "source": [
    "## Comments and Strings\n",
    "You start a comment in Python with a # (what I call a pound sign but you whippersnappers call a hashtag). Comments are ignored by the interpreter they are for leaving helpful notes to yourself and others. Writing good comments is more of an art than science and different organizations and teams have different guidelines about them.\n",
    "\n",
    "```python\n",
    "# I'm a comment look at me! See how I'm descriptive and updated to reflect code changes? You're welcome.\n",
    "```\n",
    "\n",
    "There is a school of thought that says your code should be \"self documenting\". That is your variable names and function names and so on should be so clear and descriptive comments are unnessesary. This is, not to get to technical, bananas. Yes, your variable names should be clear, your function names should describe the function's purpose. And yes code changes can be made that can then conflict with the old comments. Do it anyway. Even for your own projects. Use full sentences and try to describe the thought process behind a function or file rather than how it literally works line by line. \\endrant.\n",
    "\n",
    "As in JavaScript you can create strings with single quotes or double quotes. Such strings need to be on a single line. Backtics are not used for creating strings, we'll talk about string formatting in a couple lessons.\n",
    "\n",
    "You can create a multi line string by beginning and ending it with ''' or \"\"\". This is actually used to help automatically generate documentation but don't worry about docstrings for now.\n",
    "\n",
    "```python\n",
    "# A string literal.\n",
    "\"Ayyy I'm a string literal!\"\n",
    "# Another one\n",
    "'Using single quotes is also cool.'\n",
    "# Oh my you're so long...and multi lined.\n",
    "'''You want a newline?\n",
    "I got a newline for yous!\n",
    "I got as many lines as you need ;)'''\n",
    "```\n",
    "\n",
    "There are also some special characters you can use for string formatting. A high quality thourough bootcamp will of course go over them.\n",
    "\n",
    "Suppose you want to put a double quote in a string surrounded by double quotes? Easy you use the escape character \\.\n",
    "```python\n",
    "# A string literal.\n",
    "\"I'm a \\\"string\\\" literal or whatever. No big deal\"\n",
    "```\n",
    "\n",
    "You can also embed newlines with \\n and tabs with \\t."
   ]
  },
  {
   "cell_type": "code",
   "execution_count": 46,
   "metadata": {
    "collapsed": false
   },
   "outputs": [
    {
     "name": "stdout",
     "output_type": "stream",
     "text": [
      "Not very readable\n",
      "\tAnd yet...\n",
      "Magical.\n"
     ]
    }
   ],
   "source": [
    "print(\"Not very readable\\n\\tAnd yet...\\nMagical.\")"
   ]
  },
  {
   "cell_type": "markdown",
   "metadata": {},
   "source": [
    "There are some more special characters but these are the big ones. Just know that me and carriage returns have some beef. Oh and null terminators? Those can wait for C. It's better this way."
   ]
  },
  {
   "cell_type": "markdown",
   "metadata": {},
   "source": [
    "## Type Coercion\n",
    "One of JS's design decisions that was... questionable concerns type coercion. JavaScript is more than willing to convert willy-nilly from numbers to strings to NaNs to who knows what without reporting any errors. Python is much more conservatice."
   ]
  },
  {
   "cell_type": "code",
   "execution_count": 39,
   "metadata": {
    "collapsed": false
   },
   "outputs": [
    {
     "ename": "TypeError",
     "evalue": "must be str, not int",
     "output_type": "error",
     "traceback": [
      "\u001b[0;31m---------------------------------------------------------------------------\u001b[0m",
      "\u001b[0;31mTypeError\u001b[0m                                 Traceback (most recent call last)",
      "\u001b[0;32m<ipython-input-39-0f3a36204e14>\u001b[0m in \u001b[0;36m<module>\u001b[0;34m()\u001b[0m\n\u001b[1;32m      1\u001b[0m \u001b[1;31m# An oopsy poopsie\u001b[0m\u001b[1;33m\u001b[0m\u001b[1;33m\u001b[0m\u001b[0m\n\u001b[0;32m----> 2\u001b[0;31m \u001b[0mprint\u001b[0m\u001b[1;33m(\u001b[0m\u001b[1;34m\"5\"\u001b[0m \u001b[1;33m+\u001b[0m \u001b[1;36m5\u001b[0m\u001b[1;33m)\u001b[0m\u001b[1;33m\u001b[0m\u001b[0m\n\u001b[0m",
      "\u001b[0;31mTypeError\u001b[0m: must be str, not int"
     ]
    }
   ],
   "source": [
    "# An oopsy poopsie\n",
    "print(\"5\" + 5)"
   ]
  },
  {
   "cell_type": "markdown",
   "metadata": {},
   "source": [
    "Errors are *a good thing*, we want Python to tell us when we have done something silly. JS is very unwilling to throw errors so it might come off as strict but trust me, it is this way for a reason."
   ]
  },
  {
   "cell_type": "markdown",
   "metadata": {},
   "source": [
    "## The Integer Type\n",
    "Unlike JS, Python has a true integer type. JavaScript uses floating point numbers (64 bit doubles to be exact) to represent all numbers which has some ramifications for doing math. Python by contrast features arbitrarily sized integers. We'll explore what that means shortly.\n",
    "\n",
    "To get the type of an object in Python is easy, we just use the `type` function!"
   ]
  },
  {
   "cell_type": "code",
   "execution_count": 40,
   "metadata": {
    "collapsed": false,
    "scrolled": false
   },
   "outputs": [
    {
     "name": "stdout",
     "output_type": "stream",
     "text": [
      "<class 'int'>\n",
      "<class 'float'>\n"
     ]
    }
   ],
   "source": [
    "# Number types\n",
    "print( type(10) )\n",
    "print( type(10.0) )"
   ]
  },
  {
   "cell_type": "markdown",
   "metadata": {},
   "source": [
    "The only difference between these numbers is the `.0` after the ten that prints as a float. This is how we tell Python what type we want a number to be.\n",
    "\n",
    "Now for most of the math operators if both inputs are integers the output is an integer. If one or both of them are a float the output is a float. For example"
   ]
  },
  {
   "cell_type": "code",
   "execution_count": 41,
   "metadata": {
    "collapsed": false
   },
   "outputs": [
    {
     "name": "stdout",
     "output_type": "stream",
     "text": [
      "20.0\n",
      "<class 'float'>\n"
     ]
    }
   ],
   "source": [
    "print( 10 + 10.0 )\n",
    "print( type(10 + 10.0) )"
   ]
  },
  {
   "cell_type": "markdown",
   "metadata": {},
   "source": [
    "Note that unlike JS, a floating point value of ten is written as `10.0`. The `.0` shows us at a glance that the value of this variable is a float.\n",
    "This is pretty much the only example of type coercion in Python. There is one operator that behaves a little differently:"
   ]
  },
  {
   "cell_type": "code",
   "execution_count": 42,
   "metadata": {
    "collapsed": false
   },
   "outputs": [
    {
     "name": "stdout",
     "output_type": "stream",
     "text": [
      "2.5\n",
      "10.0\n"
     ]
    }
   ],
   "source": [
    "print(5 / 2)\n",
    "print(20 / 2)"
   ]
  },
  {
   "cell_type": "markdown",
   "metadata": {},
   "source": [
    "You'll notice that even though both inputs to the division are integers the output is a float. This is actually a change from Python 2 to Python 3. I won't dwell on the differences between those versions here though.\n",
    "\n",
    "We have a dedicated operator for integer division."
   ]
  },
  {
   "cell_type": "code",
   "execution_count": 43,
   "metadata": {
    "collapsed": false
   },
   "outputs": [
    {
     "name": "stdout",
     "output_type": "stream",
     "text": [
      "10\n"
     ]
    }
   ],
   "source": [
    "print(20 // 2)"
   ]
  },
  {
   "cell_type": "markdown",
   "metadata": {},
   "source": [
    "Hey! The `.0` is gone! Ok well what if the output isn't a round number?"
   ]
  },
  {
   "cell_type": "code",
   "execution_count": 44,
   "metadata": {
    "collapsed": false
   },
   "outputs": [
    {
     "name": "stdout",
     "output_type": "stream",
     "text": [
      "2\n"
     ]
    }
   ],
   "source": [
    "print( 5 // 2)"
   ]
  },
  {
   "cell_type": "markdown",
   "metadata": {},
   "source": [
    "Ok so it rounded `2.5` to `2`. Aren't you supposed to round up in that case? Let's look at more examples. We can convert floats (among other things) to integers with the `int` function."
   ]
  },
  {
   "cell_type": "code",
   "execution_count": 45,
   "metadata": {
    "collapsed": false
   },
   "outputs": [
    {
     "name": "stdout",
     "output_type": "stream",
     "text": [
      "9\n"
     ]
    }
   ],
   "source": [
    "print( int(9.9) )"
   ]
  },
  {
   "cell_type": "markdown",
   "metadata": {},
   "source": [
    "Surely `9.9` should round to `10` right? Well when Python converts a float to an int it doesn't round the number, it *truncates* it. That is to say it throws away the decimal part. It works the same for negative numbers."
   ]
  },
  {
   "cell_type": "code",
   "execution_count": 17,
   "metadata": {
    "collapsed": false
   },
   "outputs": [
    {
     "name": "stdout",
     "output_type": "stream",
     "text": [
      "-9\n"
     ]
    }
   ],
   "source": [
    "print( int(-9.9))"
   ]
  },
  {
   "cell_type": "markdown",
   "metadata": {},
   "source": [
    "Now fun fact this behavior is not standard between different programming languages and even different processors. Emulator developers in particular often are plagued by these nitty gritty details. Fortunately this is a big bag of not your problem for right now. Javascript has a method to do the same operation: `Math.trunc`."
   ]
  },
  {
   "cell_type": "markdown",
   "metadata": {},
   "source": [
    "## Arbitrarily Large Integers\n",
    "\n",
    "Python integers grow as needed to contain arbitrarily large values. A 64 bit unsigned number is a non-negative number stored in, surprise surprise, 64 bits. You can get the maximum size of such a number by raising 2 to the 64th power."
   ]
  },
  {
   "cell_type": "code",
   "execution_count": 23,
   "metadata": {
    "collapsed": false
   },
   "outputs": [
    {
     "name": "stdout",
     "output_type": "stream",
     "text": [
      "18446744073709551616\n"
     ]
    }
   ],
   "source": [
    "print(2 ** 64)"
   ]
  },
  {
   "cell_type": "markdown",
   "metadata": {},
   "source": [
    "That's a big number! But in cryptography we're often working with *256* bit numbers! How high can you count with one of those?"
   ]
  },
  {
   "cell_type": "code",
   "execution_count": 22,
   "metadata": {
    "collapsed": false
   },
   "outputs": [
    {
     "name": "stdout",
     "output_type": "stream",
     "text": [
      "115792089237316195423570985008687907853269984665640564039457584007913129639936\n"
     ]
    }
   ],
   "source": [
    "print(2 ** 256)"
   ]
  },
  {
   "cell_type": "markdown",
   "metadata": {},
   "source": [
    "That is a real damn big number. Now JS can handle such numbers, it has the BigInt type for just this purpose. But this is just how Python do right out of the box. As floating point numbers grow bigger they get less accurate. Python integers can be arbitrarily large and perfectly accurate."
   ]
  },
  {
   "cell_type": "markdown",
   "metadata": {},
   "source": [
    "## Conditionals and Boolean Logic\n",
    "\n",
    "As a JS programmer you're familiar with the various boolean operators using the cryptic symbols of !, &&, ||, and so on. Well in Python we just use the English words. Also the true and false boolean values are capitalized as True and False which can be a little hard to remember."
   ]
  },
  {
   "cell_type": "code",
   "execution_count": 52,
   "metadata": {
    "collapsed": false
   },
   "outputs": [
    {
     "name": "stdout",
     "output_type": "stream",
     "text": [
      "True\n",
      "False\n",
      "False\n",
      "True\n"
     ]
    }
   ],
   "source": [
    "print( False or True ) # true\n",
    "print( not True) # false\n",
    "print( not not False or False) # false\n",
    "print( (not False or False) and True) # true"
   ]
  },
  {
   "cell_type": "markdown",
   "metadata": {},
   "source": [
    "## Imports\n",
    "Python has an extensive standard library and you can of course install more, such as with the pip package manager. Today we'll look at two modules we'll be using a lot in the coming example problems: math and random."
   ]
  },
  {
   "cell_type": "markdown",
   "metadata": {},
   "source": [
    "### Math\n",
    "Python comes with a bunch of math functions in the top level namespace including abs, sum, min, and max. Some math features are consigned to the math module."
   ]
  },
  {
   "cell_type": "code",
   "execution_count": 2,
   "metadata": {
    "collapsed": false
   },
   "outputs": [
    {
     "name": "stdout",
     "output_type": "stream",
     "text": [
      "3.1622776601683795\n"
     ]
    }
   ],
   "source": [
    "import math\n",
    "print( math.sqrt(10) )"
   ]
  },
  {
   "cell_type": "markdown",
   "metadata": {},
   "source": [
    "Above you can see how we import the math module with the `import` keyword. Then we can use functions from that module with dot notation. In this case we are importing the math module and finding the square root of 10. Suppose you don't like using dot notation, you want to just use the function itself. Easy enough:"
   ]
  },
  {
   "cell_type": "code",
   "execution_count": 3,
   "metadata": {
    "collapsed": false
   },
   "outputs": [
    {
     "name": "stdout",
     "output_type": "stream",
     "text": [
      "3.1622776601683795\n"
     ]
    }
   ],
   "source": [
    "from math import sqrt\n",
    "print( sqrt(10) )"
   ]
  },
  {
   "cell_type": "markdown",
   "metadata": {},
   "source": [
    "Now you can import everything from a module with * but this is not a good idea. You might want to use an alias for an object imported from a module. That's easy enough too."
   ]
  },
  {
   "cell_type": "code",
   "execution_count": 4,
   "metadata": {
    "collapsed": false
   },
   "outputs": [
    {
     "name": "stdout",
     "output_type": "stream",
     "text": [
      "3.1622776601683795\n"
     ]
    }
   ],
   "source": [
    "from math import sqrt as root\n",
    "print( root(10) )"
   ]
  },
  {
   "cell_type": "markdown",
   "metadata": {},
   "source": [
    "Generally speaking I would encourage you to simply import the module and use dot notation to access methods within it. This will make it very obvious where your functions are coming from, improving readability and making looking up info the docs easier.\n",
    "\n",
    "To wrap up let's look at a couple common use cases for the random module."
   ]
  },
  {
   "cell_type": "code",
   "execution_count": 8,
   "metadata": {
    "collapsed": false
   },
   "outputs": [
    {
     "name": "stdout",
     "output_type": "stream",
     "text": [
      "0.4928663417241622\n"
     ]
    }
   ],
   "source": [
    "import random\n",
    "print( random.random() )"
   ]
  },
  {
   "cell_type": "markdown",
   "metadata": {},
   "source": [
    "The above prints out a floating point number between 0 and 1. It has a linear distribution meaning every number in that range is as likely as any other number. Another important function is randrange."
   ]
  },
  {
   "cell_type": "code",
   "execution_count": 35,
   "metadata": {
    "collapsed": false
   },
   "outputs": [
    {
     "name": "stdout",
     "output_type": "stream",
     "text": [
      "5\n"
     ]
    }
   ],
   "source": [
    "import random\n",
    "print( random.randrange(1, 7) )"
   ]
  },
  {
   "cell_type": "markdown",
   "metadata": {},
   "source": [
    "Here we have written a script that will print out a number between 1 and 6 inclusive. The second argument is 7 because randrange expects a range of values starting from the first argument and ending right before the second. Why did I pick these values? Because they emulate a regular six sided die! So what if you want to roll two of them?\n",
    "\n",
    "Two six sided dice have a minimum value of 2 and a maximum value of 12 so you might try this:"
   ]
  },
  {
   "cell_type": "code",
   "execution_count": 36,
   "metadata": {
    "collapsed": false
   },
   "outputs": [
    {
     "name": "stdout",
     "output_type": "stream",
     "text": [
      "7\n"
     ]
    }
   ],
   "source": [
    "import random\n",
    "print( random.randrange(2, 13) )"
   ]
  },
  {
   "cell_type": "markdown",
   "metadata": {},
   "source": [
    "That will indeed produce numbers in the right range but they will have the wrong distribution! Not every number between 2 and 12 is as likely as any other. 2 and 12 have only a 1/36 chance of being rolled while a 7 has a whopping 1/6 chance. So in order to emulate the correct distribution we could write the following:"
   ]
  },
  {
   "cell_type": "code",
   "execution_count": 37,
   "metadata": {
    "collapsed": false
   },
   "outputs": [
    {
     "name": "stdout",
     "output_type": "stream",
     "text": [
      "10\n"
     ]
    }
   ],
   "source": [
    "import random\n",
    "print( random.randrange(1, 7) + random.randrange(1, 7) )"
   ]
  },
  {
   "cell_type": "markdown",
   "metadata": {},
   "source": [
    "When we cover loops and functions and things we can write a better dice simulator. But now you know the basics of importing modules!"
   ]
  },
  {
   "cell_type": "markdown",
   "metadata": {},
   "source": [
    "## Exercises\n",
    "1. Print out your name, address, age, and whether or not you have a pet with the appropriate datatypes. You could also print out Lady Gaga's information or the president's, I'm not your boss.\n",
    "2. Think of a real life situation where truncating a number with a decimal point makes more sense than rounding it.\n",
    "3. Write and print an expression For different dice sizes and combinations. How do you simulate 5 six sided dice (5d6)?  What about 2d10 + 1d4 + 5? How can you make your code less verbose by changing how you import the random module?"
   ]
  }
 ],
 "metadata": {
  "kernelspec": {
   "display_name": "Python 3",
   "language": "python",
   "name": "python3"
  },
  "language_info": {
   "codemirror_mode": {
    "name": "ipython",
    "version": 3
   },
   "file_extension": ".py",
   "mimetype": "text/x-python",
   "name": "python",
   "nbconvert_exporter": "python",
   "pygments_lexer": "ipython3",
   "version": "3.6.0"
  }
 },
 "nbformat": 4,
 "nbformat_minor": 2
}
