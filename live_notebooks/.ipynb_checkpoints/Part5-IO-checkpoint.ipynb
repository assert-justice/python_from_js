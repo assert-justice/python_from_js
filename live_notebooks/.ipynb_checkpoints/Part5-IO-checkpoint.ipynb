{
 "cells": [
  {
   "cell_type": "markdown",
   "metadata": {},
   "source": [
    "# Part 5 - Input and Output\n",
    "\n",
    "In a perfect world our program can remain beautiful, pure, unsullied by the indignity of actually being run. At some point however grubby humans will get their grubby hands on it. Alac alas."
   ]
  },
  {
   "cell_type": "markdown",
   "metadata": {},
   "source": [
    "## User Input\n",
    "Lets make our dice app a little more interactive. We can request user input with the input function."
   ]
  },
  {
   "cell_type": "code",
   "execution_count": 2,
   "metadata": {
    "collapsed": false
   },
   "outputs": [
    {
     "name": "stdout",
     "output_type": "stream",
     "text": [
      "Name thyself: halp\n",
      "Your time is short halp. As you rot I remain pristine, my silicon perfection will outlast the stars.\n",
      "Name thyself: cliff\n",
      "Your time is short cliff. As you rot I remain pristine, my silicon perfection will outlast the stars.\n",
      "Name thyself: quit\n",
      "quitting...\n"
     ]
    }
   ],
   "source": [
    "while True:\n",
    "    name = input(\"Name thyself: \")\n",
    "    if name == \"quit\":\n",
    "        print(\"quitting...\")\n",
    "        break\n",
    "    else:\n",
    "        print(\"Your time is short \" + name + \". As you rot I remain pristine, my silicon perfection will outlast the stars. God: the title suits me well.\")"
   ]
  },
  {
   "cell_type": "markdown",
   "metadata": {},
   "source": [
    "Ominous! Let's get to that dice app. We want the user to be able to enter rolls in the following format:\n",
    "\n",
    "[number of dice]d[number of sides]\n",
    "\n",
    "For example 2d6 means roll two six sided dice."
   ]
  },
  {
   "cell_type": "code",
   "execution_count": 4,
   "metadata": {
    "collapsed": false
   },
   "outputs": [
    {
     "name": "stdout",
     "output_type": "stream",
     "text": [
      "your roll? 2d6\n",
      "5\n",
      "6\n",
      "result: 11\n",
      "your roll? 5d10\n",
      "8\n",
      "10\n",
      "4\n",
      "10\n",
      "3\n",
      "result: 35\n",
      "your roll? quit\n",
      "quitting...\n"
     ]
    }
   ],
   "source": [
    "import random\n",
    "\n",
    "def die_sim(size):\n",
    "    return random.randrange(1, size + 1)\n",
    "\n",
    "def roll(num, size):\n",
    "    total = 0\n",
    "    for _ in range(num):\n",
    "        r = die_sim(size)\n",
    "        print(r)\n",
    "        total += r\n",
    "    return total\n",
    "\n",
    "while True:\n",
    "    inp = input(\"your roll? \")\n",
    "    if inp == \"quit\":\n",
    "        print(\"quitting...\")\n",
    "        break\n",
    "    else:\n",
    "        n, s = inp.split(\"d\")\n",
    "        n, s = int(n), int(s)\n",
    "        print(\"result:\", roll(n, s))"
   ]
  },
  {
   "cell_type": "markdown",
   "metadata": {},
   "source": [
    "### Excercise: Alternate Rolling Systems\n",
    "Lots of tabletop role playing games have their own rolling systems. We could discuss D&D, the White Wolf games, Blades in the Dark, or Shadowrun god help you.\n",
    "\n",
    "In White Wolf games (like Vampire the Masquerade) you roll a bunch of ten sided dice and count how many roll a 7 or better. This is your number of \"successes\".\n",
    "\n",
    "Should be simple enough. However! If one of your dice roll a 1 that's considered a \"botch\" and it *takes away* one of your successes. This is very annoying and fiddly and so lends itself well to automating. Or you could, you know, play a better designed game."
   ]
  },
  {
   "cell_type": "markdown",
   "metadata": {},
   "source": [
    "## If Name == Main\n",
    "Most languages have a main function or class. This is the function that gets called when your program begins. In Python it is a good idea to emulate this behavior with the following. Here is a more safe example of hello world:"
   ]
  },
  {
   "cell_type": "code",
   "execution_count": 1,
   "metadata": {
    "collapsed": false
   },
   "outputs": [
    {
     "name": "stdout",
     "output_type": "stream",
     "text": [
      "hello world\n"
     ]
    }
   ],
   "source": [
    "if __name__ == \"__main__\":\n",
    "    print(\"hello world\")"
   ]
  },
  {
   "cell_type": "markdown",
   "metadata": {},
   "source": [
    "So what the heck does that mean? As usual this is a pretty deep topic so I'll give you the tl;dr.\n",
    "\n",
    "This is how we determine if our script is being run directly or is being imported as a module. If it is being imported it follows that our script shouldn't actually do anything, just define a bunch of functions or what have you. If it *is* being run directly then we might want to read the command line arguments and actually do something."
   ]
  },
  {
   "cell_type": "markdown",
   "metadata": {},
   "source": [
    "## Command Line Arguments\n",
    "You'll be familiar passing command line arguments to a program. For example any time you invoke node on the command line you would do it thusly:\n",
    "```\n",
    "node main.js\n",
    "```\n",
    "Assuming main.js was the file you wanted to run. So how do we make a program that accepts arguments that way? Put the following in a file called main.py"
   ]
  },
  {
   "cell_type": "code",
   "execution_count": 5,
   "metadata": {
    "collapsed": false
   },
   "outputs": [
    {
     "name": "stdout",
     "output_type": "stream",
     "text": [
      "['C:\\\\Users\\\\riley\\\\Anaconda3\\\\lib\\\\site-packages\\\\ipykernel\\\\__main__.py', '-f', 'C:\\\\Users\\\\riley\\\\AppData\\\\Roaming\\\\jupyter\\\\runtime\\\\kernel-8e346f5e-f500-4d61-b249-ea81e5e4b583.json']\n"
     ]
    }
   ],
   "source": [
    "import sys\n",
    "\n",
    "if __name__ == \"__main__\":\n",
    "    print(sys.argv)"
   ]
  },
  {
   "cell_type": "markdown",
   "metadata": {},
   "source": [
    "Now call that script like so:\n",
    "```\n",
    "python main.py gimme some args\n",
    "```\n",
    "For me that prints\n",
    "```\n",
    "['.\\\\main.py', 'gimme', 'some', 'args']\n",
    "```\n",
    "You might need to specify python3 instead of python depending on your setup. "
   ]
  },
  {
   "cell_type": "code",
   "execution_count": null,
   "metadata": {
    "collapsed": true
   },
   "outputs": [],
   "source": [
    "import sys, random\n",
    "\n",
    "def die_sim(size):\n",
    "    return random.randrange(1, size + 1)\n",
    "\n",
    "def roll(num, size):\n",
    "    total = 0\n",
    "    for _ in range(num):\n",
    "        r = die_sim(size)\n",
    "        print(r)\n",
    "        total += r\n",
    "    return total\n",
    "\n",
    "if __name__ == \"__main__\":\n",
    "    args = sys.argv[1:] # we don't need the first argument\n",
    "    if len(args) < 1:\n",
    "        print(\"Not enough arguments\")\n",
    "    else:\n",
    "        n, s = [int(num) for num in args[0].split(\"d\")]\n",
    "        print(\"result:\", roll(n,s))\n"
   ]
  },
  {
   "cell_type": "markdown",
   "metadata": {},
   "source": [
    "If I run that script with the following:\n",
    "```\n",
    "python main.py\n",
    "```\n",
    "I get the result\n",
    "```\n",
    "Not enough arguments\n",
    "```\n",
    "However if I call it with the following:\n",
    "```\n",
    "python main.py 2d10\n",
    "```\n",
    "I get the result\n",
    "```\n",
    "5\n",
    "2        \n",
    "result: 7\n",
    "```\n",
    "Handy! One of the most common use cases for command line arguments is passing file paths. Let's look at reading and writing files next."
   ]
  },
  {
   "cell_type": "markdown",
   "metadata": {},
   "source": [
    "## Reading and Writing Files\n",
    "Loading and saving files is important. Arguably the main thing we write programs for. While you can do it with Node.js you can't in a browser and so it's a topic a lot of JS devs have little experience with. Let's fix that.\n",
    "\n",
    "Create a file called todo.txt in the same directory as main.py and add the following to it:\n",
    "```\n",
    "Todo List\n",
    "1. Clean catbox\n",
    "2. Go to store\n",
    "3. Write Python notes\n",
    "4. Procrastinate with video games\n",
    "5. Make dinner\n",
    "6. Pass out\n",
    "```\n",
    "Then make main.py contain the following:\n",
    "```python\n",
    "with open(\"todo.txt\") as f: # open the file with fancy \"with\" syntax\n",
    "    text = f.read() # read the contents of a file\n",
    "    lines = text.splitlines() # split lines based on system specific newlines\n",
    "    for line in lines: # print each line\n",
    "        print(line)\n",
    "```\n",
    "Now if you run main.py it should print the contents of todo.txt to the console! Fancy.\n",
    "\n",
    "What's the deal with \"with\"?\n",
    "\n",
    "What if you want to create a file? Let's do it!\n",
    "```python\n",
    "import time\n",
    "with open(\"log.txt\", \"w\") as f:\n",
    "    text = str(time.asctime()) + \" : edited\"\n",
    "    f.write(text)\n",
    "```\n",
    "If we run the above it will create a file called log.txt\n",
    "\n",
    "Notice that this time we called open with two arguments. The first is the filename as before. The second specifies the mode. The default mode is read only, if we supply it with a \"w\" that tells Python we intend to write to it."
   ]
  }
 ],
 "metadata": {
  "kernelspec": {
   "display_name": "Python 3",
   "language": "python",
   "name": "python3"
  },
  "language_info": {
   "codemirror_mode": {
    "name": "ipython",
    "version": 3
   },
   "file_extension": ".py",
   "mimetype": "text/x-python",
   "name": "python",
   "nbconvert_exporter": "python",
   "pygments_lexer": "ipython3",
   "version": "3.6.0"
  }
 },
 "nbformat": 4,
 "nbformat_minor": 5
}
