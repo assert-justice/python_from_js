{
 "cells": [
  {
   "cell_type": "markdown",
   "metadata": {},
   "source": [
    "# Lesson 5 - Object Oriented Programming\n",
    "\n",
    "OOP has been kicking around in some form or another since the 60s but it really started to get big in the 80s and 90s.\n",
    "\n",
    "In its hayday OOP was hot, it was trendy, it was a silver bullet that would make code cleaner, take over the world, and cure cancer.\n",
    "\n",
    "Now you can find an endless procession of videos, talks, and blogs decrying OOP as terrible, verbose, and difficult to maintain.\n",
    "\n",
    "What's true? What's false? Is there no truth in beauty?\n",
    "\n",
    "OOP is one of those techniques that lends itself better to some problems than others. It is certainly possible to write terrible impenitrable OOP code but you can write bad code in anything.\n",
    "\n",
    "Either way it's an important set of concepts to learn. One of the things about Python is that it has objects and classes and so on but they are not essential. It is certainly possible to write procedural style code or functional style code in Python and I like that flexibility. Other languages like Java, C#, and Ruby are \"more\" object oriented in a sense because they are mandatory. In fact Ruby was created because its developer thought Python wasn't object oriented enough.\n",
    "\n",
    "Another thing about OOP is that there is a lot of jargon thrown around about it. I'll try to cut through that but I'm convinced most of this jargon exists to make OOP concepts sound more impressive than they are.\n",
    "\n",
    "## OOPs I Did it Again\n",
    "\n",
    "Coming from JavaScript you know objects as key-value pairs. In Python we call those dictionaries. Those aren't really the objects I'm talking about.\n",
    "\n",
    "In procedural programming data and functions (or procedures) are seperate. You pass data to functions and pipe the results to other functions.\n",
    "\n",
    "In OOP data and functions that operate on that data are bound together into \"objects\". Data in an object is sometimes called a \"field\" and a function attached to an object is called a \"method\".\n",
    "\n",
    "To create an object we first have to define a \"class\". A class is sort of a blueprint, it defines the fields and methods that objects created with that class have.\n",
    "\n",
    "We can create an \"instance\" of an object. If the class is a blueprint the instance is the actual car rolling off the assembly line.\n",
    "\n",
    "Enough dawdling! Let's look at some examples."
   ]
  },
  {
   "cell_type": "markdown",
   "metadata": {},
   "source": [
    "## Classes and Instances\n",
    "In the following examples we'll be creating a bed class to handle all of our bed handling needs. This bed is going to have a single field is_made and three methods. Let's look at the code:"
   ]
  },
  {
   "cell_type": "code",
   "execution_count": 1,
   "metadata": {
    "collapsed": false
   },
   "outputs": [
    {
     "name": "stdout",
     "output_type": "stream",
     "text": [
      "False\n",
      "True\n",
      "False\n"
     ]
    }
   ],
   "source": [
    "class Bed():\n",
    "    def __init__(self):\n",
    "        self.is_made = False\n",
    "    def make(self):\n",
    "        self.is_made = True\n",
    "    def sleep(self):\n",
    "        self.is_made = False\n",
    "\n",
    "my_bed = Bed()\n",
    "your_bed = Bed()\n",
    "print(my_bed.is_made) # False\n",
    "my_bed.make()\n",
    "print(my_bed.is_made) # True\n",
    "print(your_bed.is_made)# False"
   ]
  },
  {
   "cell_type": "markdown",
   "metadata": {},
   "source": [
    "There is a lot going on in this snippet. Let's break it down piece by piece.\n",
    "\n",
    "First is the class keyword. This is how we start a class definition. Following that is the Bed identifier. By convention class names in Python use PascalCase.\n",
    "\n",
    "Now the next line is interesting. Here we see a function is being defined but that function has a strange name. That is two underscores followed by the word \"init\" followed by two more underscores. Our function accepts a single argument called self. We'll talk more about dunder methods (short for double underscore) and self in the next section but for now all you need to know is that self refers to the current instance.\n",
    "\n",
    "So we set the is_made property of self to be False. This will be the value it has when a new bed object is created.\n",
    "\n",
    "The next method make looks similar. It also accepts the self argument and sets the is_made property to true.\n",
    "\n",
    "Finally the sleep method sets is_made to false.\n",
    "\n",
    "Now we're outside of the class definition we create an instance of Bed and store it in a variable called my_bed. Notice that we can create a new instance very simply by calling the class name like a function. No new keyword required.\n",
    "\n",
    "We create another bed object called your_bed.\n",
    "\n",
    "We print the is_made property of my_bed. It prints false because that's what we set the initial value to. On the next line we call the make method of my_bed. On the line after that we print out the is_made property again and this time it's true because we just made the bed!\n",
    "\n",
    "Finally we print the is_made property of your_bed and it's false. Our modifiying my_bed has not modified your_bed."
   ]
  },
  {
   "cell_type": "markdown",
   "metadata": {},
   "source": [
    "## Dunder Methods and Self\n",
    "Cool. So let's talk about that weird init method. The dunder methods (also known as magic methods) let us define how our class behaves. So the init method handles when the class is initalized, the str method handles what happens when we try to convert it into a string, and so on.\n",
    "\n",
    "We've talked before about Python's duck typing, you can hand pretty much anything to the len function for example and it will do something sensible. Instead of methods bound to objects we have these functions in our global scope that behave consistently with different objects."
   ]
  },
  {
   "cell_type": "markdown",
   "metadata": {},
   "source": [
    "## Class Fields and Instance Fields"
   ]
  },
  {
   "cell_type": "markdown",
   "metadata": {},
   "source": [
    "## Inheritance\n",
    "\n",
    "### Let's get Philosophical"
   ]
  },
  {
   "cell_type": "markdown",
   "metadata": {},
   "source": [
    "## A Blackjack Game"
   ]
  },
  {
   "cell_type": "markdown",
   "metadata": {},
   "source": [
    "## Excercise\n",
    "Up your game."
   ]
  }
 ],
 "metadata": {
  "kernelspec": {
   "display_name": "Python 3",
   "language": "python",
   "name": "python3"
  },
  "language_info": {
   "codemirror_mode": {
    "name": "ipython",
    "version": 3
   },
   "file_extension": ".py",
   "mimetype": "text/x-python",
   "name": "python",
   "nbconvert_exporter": "python",
   "pygments_lexer": "ipython3",
   "version": "3.6.0"
  }
 },
 "nbformat": 4,
 "nbformat_minor": 4
}
