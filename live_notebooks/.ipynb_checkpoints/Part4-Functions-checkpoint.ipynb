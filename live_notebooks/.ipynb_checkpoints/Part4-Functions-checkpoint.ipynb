{
 "cells": [
  {
   "cell_type": "markdown",
   "metadata": {},
   "source": [
    "# Part 4 - Functions\n",
    "Functions should feel pretty familiar coming from JS, they work similarly in Python. As you can expect there are some edge cases to tackle though."
   ]
  },
  {
   "cell_type": "markdown",
   "metadata": {},
   "source": [
    "## Anatomy of a Function\n",
    "Below is an exceedingly simple function that doubles numbers."
   ]
  },
  {
   "cell_type": "code",
   "execution_count": 1,
   "metadata": {
    "collapsed": false
   },
   "outputs": [
    {
     "name": "stdout",
     "output_type": "stream",
     "text": [
      "20\n"
     ]
    }
   ],
   "source": [
    "def doubler(n):\n",
    "    return n * 2\n",
    "\n",
    "print( doubler(10) )"
   ]
  },
  {
   "cell_type": "markdown",
   "metadata": {},
   "source": [
    "Instead of the `function` keyword in JS we use `def`. As everywhere in Python when we indicate a block of code we do that with a colon followed by the indented block of code. Return statements are pretty much the same. Let's write a less trivial function then."
   ]
  },
  {
   "cell_type": "code",
   "execution_count": 4,
   "metadata": {
    "collapsed": false
   },
   "outputs": [
    {
     "name": "stdout",
     "output_type": "stream",
     "text": [
      "2\n"
     ]
    }
   ],
   "source": [
    "import random\n",
    "\n",
    "def die_sim(size):\n",
    "    return random.randrange(1, size + 1)\n",
    "\n",
    "print(die_sim(6))"
   ]
  },
  {
   "cell_type": "markdown",
   "metadata": {},
   "source": [
    "Now suppose we were to write a function that rolled a whole bunch of dice. We could re-implement this dice rolling behavior but it would be instructive to use the above as a helper function."
   ]
  },
  {
   "cell_type": "code",
   "execution_count": 5,
   "metadata": {
    "collapsed": false
   },
   "outputs": [
    {
     "name": "stdout",
     "output_type": "stream",
     "text": [
      "19\n",
      "7\n"
     ]
    }
   ],
   "source": [
    "import random\n",
    "\n",
    "def die_sim(size):\n",
    "    return random.randrange(1, size + 1)\n",
    "\n",
    "def roll(number, size):\n",
    "    total = 0\n",
    "    for _ in range(number): # we can use an underscore when we don't need a variable\n",
    "        total += die_sim(size)\n",
    "    return total\n",
    "\n",
    "print( roll(5, 6) ) # roll 5 six sided dice. Yhatzee!\n",
    "print( roll(3, 4) ) # roll 3 four sided dice. Magic Missile!"
   ]
  },
  {
   "cell_type": "markdown",
   "metadata": {},
   "source": [
    "Can we make our roll function more Pythonic? You betcha."
   ]
  },
  {
   "cell_type": "code",
   "execution_count": 7,
   "metadata": {
    "collapsed": false
   },
   "outputs": [
    {
     "name": "stdout",
     "output_type": "stream",
     "text": [
      "21\n",
      "6\n"
     ]
    }
   ],
   "source": [
    "import random\n",
    "\n",
    "def die_sim(size):\n",
    "    return random.randrange(1, size + 1)\n",
    "\n",
    "def roll(number, size):\n",
    "    return sum([die_sim(size) for _ in range(number)])\n",
    "\n",
    "print( roll(5, 6) ) # roll 5 six sided dice. Yhatzee!\n",
    "print( roll(3, 4) ) # roll 3 four sided dice. Magic Missile!"
   ]
  },
  {
   "cell_type": "markdown",
   "metadata": {},
   "source": [
    "Oh yeah. That's looking more Pythonic."
   ]
  },
  {
   "cell_type": "markdown",
   "metadata": {},
   "source": [
    "## Lambdas\n",
    "Coming from JS you might wonder \"what about arrow functions?\" Well fear not. Python has an analogue in the lambda function. It's a little more limited though. A design ethos of Python is \"There should be one, and preferably only one obvious way to do something\" and so they deliberately limit certain features to not compete with others. Let's take a look. Here is how we would write our doubler function as a lambda."
   ]
  },
  {
   "cell_type": "code",
   "execution_count": 3,
   "metadata": {
    "collapsed": false
   },
   "outputs": [
    {
     "name": "stdout",
     "output_type": "stream",
     "text": [
      "20\n"
     ]
    }
   ],
   "source": [
    "doubler = lambda n: n * 2\n",
    "print( doubler(10) )"
   ]
  },
  {
   "cell_type": "markdown",
   "metadata": {},
   "source": [
    "In JS we could write the same function as follows:\n",
    "\n",
    "```JavaScript\n",
    "const doubler = n => n * 2;\n",
    "```\n",
    "\n",
    "Now unlike JS creating a lambda function only to assign it to a variable is not considered Pythonic. Normally when you use a lambda you use it right away in a list comprehension or in a sort or something like that. Arrow functions and lambda functions are both examples of the broader concept of anonomous functions. That is to say functions that don't have a name. Lambda refers to the mathematical model for computation Alonzo Church developed in the 30s with the incredibly scary name of \"Lambda Calculus\". But that's a spiel for another day.\n",
    "\n",
    "Now my astute pupil, you will no doubt be wondering how we can make our dice rolling function a lambda function. And the short answer is... you can't. Not the way the first one is written. Lambda functions can only contain a single expression they cannot contain statements. They are similar to JS arrow functions whos function body is *not* wrapped in braces as in the example above. This is what I mean when I say lambdas are deliberately limited. The reasoning goes that if you really need statements in a function then it should just be a regular function with the `def` keyword. \n",
    "\n",
    "Now our *second*, more Pythonic implementation does only return a single expression so we could write it as a lambda function. But the idea with a lambda is that it is created and used once, probably by passing it to a function. If we want to reuse roll we should just make it a regular function no matter how it is written."
   ]
  },
  {
   "cell_type": "markdown",
   "metadata": {},
   "source": [
    "## Default Params and Named Params\n",
    "Suppose we want our rolling function above to default to six sided dice? Easy enough:"
   ]
  },
  {
   "cell_type": "code",
   "execution_count": 5,
   "metadata": {
    "collapsed": false
   },
   "outputs": [
    {
     "name": "stdout",
     "output_type": "stream",
     "text": [
      "9\n",
      "18\n"
     ]
    }
   ],
   "source": [
    "import random\n",
    "\n",
    "def roll(number, size = 6):\n",
    "    total = 0\n",
    "    for _ in range(number): # we can use an underscore when we don't need a variable\n",
    "        total += random.randrange(1, size+1)\n",
    "    return total\n",
    "\n",
    "print( roll(5) ) # rolls 5 six sided dice again.\n",
    "print( roll(2, 20) ) # rolls 2 twenty sided dice"
   ]
  },
  {
   "cell_type": "markdown",
   "metadata": {},
   "source": [
    "One thing to note, if you pass a JS function the wrong number of arguments JS won't complain. If you pass it too many it will simply ignore the extrass. Pass it too few and the missing ones default to undefined. This is *terrible*. It's a source of a ton of beginner errors and trips up everyone who uses it. Python has arity checking that is to say if you pass a Python function the wrong number of arguments it will yell at you. This is a good thing. If you pass a function the wrong number of arguments it is almost certainly a mistake. Better to find out sooner rather than later.\n",
    "\n",
    "Anyway the above function works like the roll function we looked at earlier except now we have a default value for the size parameter. Splendid. That means that our roll function accepts either one or two arguments but if we pass it more or fewer than that Python will throw an error.\n",
    "\n",
    "Ready for something cool? Something liberatory? Something that is, as far as I know, unique to Python? Hold onto your butt let's write another function."
   ]
  },
  {
   "cell_type": "code",
   "execution_count": 1,
   "metadata": {
    "collapsed": false
   },
   "outputs": [
    {
     "name": "stdout",
     "output_type": "stream",
     "text": [
      "{'first_name': 'Audrey', 'last_name': 'Horne', 'age': 29, 'occupation': 'heiress'}\n",
      "{'first_name': 'Harry', 'last_name': 'Truman', 'age': 40, 'occupation': 'Sherrif'}\n"
     ]
    }
   ],
   "source": [
    "def gen_person(first_name = \"Audrey\", last_name = \"Horne\", age = 29, occupation = \"heiress\"):\n",
    "    return {\n",
    "        \"first_name\": first_name,\n",
    "        \"last_name\": last_name,\n",
    "        \"age\": age,\n",
    "        \"occupation\": occupation\n",
    "    }\n",
    "\n",
    "audrey = gen_person()\n",
    "print(audrey) # prints {'first_name': 'Audrey', 'last_name': 'Horne', 'age': 29, 'occupation': 'heiress'}\n",
    "harry = gen_person(\"Harry\", \"Truman\", 40, \"Sherrif\")\n",
    "print(harry) # prints {'first_name': 'Harry', 'last_name': 'Truman', 'age': 40, 'occupation': 'Sherrif'}"
   ]
  },
  {
   "cell_type": "markdown",
   "metadata": {},
   "source": [
    "So we've defined a function called gen_person that accepts several optional arguments including first name, last name, age, and occupation. It defaults to Audrey Horne's data which seems sensible. If, for some reason, you wanted to create a person completely unlike Audrey you could pass every argument like we're doing with Harry here. But suppose we want to call the function such that Audrey's occupation is businesswoman? In most programming languages you would be out of luck, you would just have to pass all the arguments manually. But in Python..."
   ]
  },
  {
   "cell_type": "code",
   "execution_count": 3,
   "metadata": {
    "collapsed": false
   },
   "outputs": [
    {
     "name": "stdout",
     "output_type": "stream",
     "text": [
      "{'first_name': 'Audrey', 'last_name': 'Horne', 'age': 29, 'occupation': 'businesswoman'}\n"
     ]
    }
   ],
   "source": [
    "audrey = gen_person(occupation = \"businesswoman\")\n",
    "print(audrey)"
   ]
  },
  {
   "cell_type": "markdown",
   "metadata": {},
   "source": [
    "This makes working with functions with gobs of default paramwters a breeze and the standard library uses it liberally."
   ]
  },
  {
   "cell_type": "markdown",
   "metadata": {},
   "source": [
    "## Pass by Value, Pass by Reference, and Pass by Object\n",
    "Consider the following:"
   ]
  },
  {
   "cell_type": "code",
   "execution_count": 5,
   "metadata": {
    "collapsed": false
   },
   "outputs": [
    {
     "name": "stdout",
     "output_type": "stream",
     "text": [
      "15\n",
      "5\n"
     ]
    }
   ],
   "source": [
    "a = 5\n",
    "\n",
    "def add_ten(val):\n",
    "    val += 10\n",
    "    print(val)\n",
    "\n",
    "add_ten(a)\n",
    "print(a)"
   ]
  },
  {
   "cell_type": "markdown",
   "metadata": {},
   "source": [
    "Within the add_ten function we reassign val to itself plus ten. Then we print it. But we passed it a variable when we called the function and the value of that variable was not changed. This is called \"pass by value\", when you pass a variable to a function the function puts a copy of that value in the parameters.\n",
    "\n",
    "What if we pass a list though?"
   ]
  },
  {
   "cell_type": "code",
   "execution_count": 7,
   "metadata": {
    "collapsed": false
   },
   "outputs": [
    {
     "name": "stdout",
     "output_type": "stream",
     "text": [
      "[3, 2, 1, 0]\n",
      "[3, 2, 1, 0]\n"
     ]
    }
   ],
   "source": [
    "a = [3, 2, 1]\n",
    "\n",
    "def append_zero(ls):\n",
    "    ls.append(0)\n",
    "    print(ls)\n",
    "\n",
    "append_zero(a)\n",
    "print(a)"
   ]
  },
  {
   "cell_type": "markdown",
   "metadata": {},
   "source": [
    "Well that's different. We can modify a list in place and those modifications escape the function! This is how JS works too mind you. In the case of lists we are passing by reference. That is to say ls doesn't contain a copy of the list, it refers to the same list!\n",
    "\n",
    "Some languages like C have pointers. To grossly oversimplify a pointer stores a *memory address* where an object resides. A pointer can point to anything, even another pointer! When we pass a list we are really passing a reference, an address to where that object lives. In this way a function could have unexpected side effects and that's no good. Ponder for a moment how lists and integers are different and then look at the next example."
   ]
  },
  {
   "cell_type": "code",
   "execution_count": 8,
   "metadata": {
    "collapsed": false
   },
   "outputs": [
    {
     "name": "stdout",
     "output_type": "stream",
     "text": [
      "[3, 2, 1, 0]\n",
      "[3, 2, 1]\n"
     ]
    }
   ],
   "source": [
    "a = [3, 2, 1]\n",
    "\n",
    "def concat_zero(ls):\n",
    "    ls = ls + [0]\n",
    "    print(ls)\n",
    "\n",
    "concat_zero(a)\n",
    "print(a)"
   ]
  },
  {
   "cell_type": "markdown",
   "metadata": {},
   "source": [
    "Hey! That time they are different! What's the deal?\n",
    "\n",
    "Well when you concatenate lists with the + sign what you are doing is creating an entirely new list. A reference to this new list is stored in ls and so when we print ls inside the function we see the list with a 0 at the end. But! We didn't modify the original list.\n",
    "\n",
    "Python calls this \"pass by object\". You'll note that if we passed a tuple to append_zero it would fail because tuple has no .append method. But concat_zero would still work. This is another good reason to use an immutable type instead of a mutable one, you can control side effects."
   ]
  },
  {
   "cell_type": "markdown",
   "metadata": {},
   "source": [
    "## Mutable Default Values\n",
    "Don't"
   ]
  },
  {
   "cell_type": "markdown",
   "metadata": {},
   "source": [
    "## Scope, Shadowing, and some Unusual Keywords\n",
    "\n",
    "You're familiar with global variables and how they are not great for code quality. It's less about avoiding them entirely and more managing the complexity they add. Python has some interesting rules for global variables. I mentioned back in part 2 that because creating and assigning a variable are identical in Python that has some ramifications for syntax. Well here we are."
   ]
  },
  {
   "cell_type": "code",
   "execution_count": 9,
   "metadata": {
    "collapsed": false
   },
   "outputs": [
    {
     "name": "stdout",
     "output_type": "stream",
     "text": [
      "spam: 5\n"
     ]
    }
   ],
   "source": [
    "spam = 5\n",
    "\n",
    "def spam_report():\n",
    "    print(\"spam:\", spam)\n",
    "\n",
    "spam_report()"
   ]
  },
  {
   "cell_type": "markdown",
   "metadata": {},
   "source": [
    "Most languages use \"foo\" and \"bar\" for placeholder variable names. *Pythonic* code uses spam and eggs. Very important. For my vegitarian and vegan comrades feel free to substitute with tofu and rice.\n",
    "\n",
    "Anyway. We have a global variable here called spam. Is it the number of cans you have? The mass of spam availible? Not important. We can access it inside a function as expected. What if we try to modify the spam quantity though? "
   ]
  },
  {
   "cell_type": "code",
   "execution_count": 13,
   "metadata": {
    "collapsed": false
   },
   "outputs": [
    {
     "name": "stdout",
     "output_type": "stream",
     "text": [
      "spam: 10\n",
      "5\n"
     ]
    }
   ],
   "source": [
    "spam = 5\n",
    "\n",
    "def generous_spam_report():\n",
    "    spam = 10\n",
    "    print(\"spam:\", spam)\n",
    "\n",
    "generous_spam_report()\n",
    "print(spam)"
   ]
  },
  {
   "cell_type": "markdown",
   "metadata": {},
   "source": [
    "We can set spam to something inside of the function. But wait! The value for spam in the outer scope isn't being changed! I really want to modify that spam value. After all it hardly seems fair to ask the function to count the spam without eating any!"
   ]
  },
  {
   "cell_type": "code",
   "execution_count": 14,
   "metadata": {
    "collapsed": false
   },
   "outputs": [
    {
     "ename": "UnboundLocalError",
     "evalue": "local variable 'spam' referenced before assignment",
     "output_type": "error",
     "traceback": [
      "\u001b[1;31m---------------------------------------------------------------------------\u001b[0m",
      "\u001b[1;31mUnboundLocalError\u001b[0m                         Traceback (most recent call last)",
      "Input \u001b[1;32mIn [14]\u001b[0m, in \u001b[0;36m<module>\u001b[1;34m\u001b[0m\n\u001b[0;32m      4\u001b[0m     spam \u001b[38;5;241m-\u001b[39m\u001b[38;5;241m=\u001b[39m \u001b[38;5;241m1\u001b[39m\n\u001b[0;32m      5\u001b[0m     \u001b[38;5;28mprint\u001b[39m(\u001b[38;5;124m\"\u001b[39m\u001b[38;5;124mspam:\u001b[39m\u001b[38;5;124m\"\u001b[39m, spam)\n\u001b[1;32m----> 7\u001b[0m \u001b[43mhungry_spam_report\u001b[49m\u001b[43m(\u001b[49m\u001b[43m)\u001b[49m\n",
      "Input \u001b[1;32mIn [14]\u001b[0m, in \u001b[0;36mhungry_spam_report\u001b[1;34m()\u001b[0m\n\u001b[0;32m      3\u001b[0m \u001b[38;5;28;01mdef\u001b[39;00m \u001b[38;5;21mhungry_spam_report\u001b[39m():\n\u001b[1;32m----> 4\u001b[0m     spam \u001b[38;5;241m-\u001b[39m\u001b[38;5;241m=\u001b[39m \u001b[38;5;241m1\u001b[39m\n\u001b[0;32m      5\u001b[0m     \u001b[38;5;28mprint\u001b[39m(\u001b[38;5;124m\"\u001b[39m\u001b[38;5;124mspam:\u001b[39m\u001b[38;5;124m\"\u001b[39m, spam)\n",
      "\u001b[1;31mUnboundLocalError\u001b[0m: local variable 'spam' referenced before assignment"
     ]
    }
   ],
   "source": [
    "spam = 5\n",
    "\n",
    "def hungry_spam_report():\n",
    "    spam -= 1\n",
    "    print(\"spam:\", spam)\n",
    "\n",
    "hungry_spam_report()"
   ]
  },
  {
   "cell_type": "markdown",
   "metadata": {},
   "source": [
    "Oh my that's a scary error! What does it mean spam was referenced before assignment? We assigned it on the very first line! What's going on?\n",
    "\n",
    "Take another look at generous_spam_report. What's happening is *not* that we are changing the value of the global spam variable. You can see that because when we print spam in the global scope it's still 5. What we are doing is creating a new variable in the function that is also called spam. From that point on we can't access the global spam variable. This is called \"shadowing\" because the inner spam variable is blocking us from reading the global spam variable.\n",
    "\n",
    "In hungry_spam_report Python gets \"confused\" because we are trying to create a variable called spam at the same time as we are reading the global variable it will shadow. This makes Python grumpy. How do we tell Python that we don't want to create a new variable, we want to modify the existing one? With the `global` keyword that's how. Behold."
   ]
  },
  {
   "cell_type": "code",
   "execution_count": 15,
   "metadata": {
    "collapsed": false
   },
   "outputs": [
    {
     "name": "stdout",
     "output_type": "stream",
     "text": [
      "spam: 4\n",
      "4\n"
     ]
    }
   ],
   "source": [
    "spam = 5\n",
    "\n",
    "def hungry_spam_report():\n",
    "    global spam\n",
    "    spam -= 1\n",
    "    print(\"spam:\", spam)\n",
    "\n",
    "hungry_spam_report()\n",
    "print(spam)"
   ]
  },
  {
   "cell_type": "markdown",
   "metadata": {},
   "source": [
    "Now hungry_spam_report works! We just had to tell Python that spam was a global variable. Now there is another weird keyword like this: `nonlocal`. That'll come up in a moment."
   ]
  },
  {
   "cell_type": "markdown",
   "metadata": {},
   "source": [
    "## Closures and Factory Functions\n",
    "\n",
    "There is an emptyness in your heart. You feel like you understand functions and yet... you lack closure. Let me provide it.\n",
    "\n",
    "Variables and state can be \"enclosed\" by a function scope such that they stick around and can be accessed outside of it. Let's look at a very simple example."
   ]
  },
  {
   "cell_type": "code",
   "execution_count": 7,
   "metadata": {
    "collapsed": false
   },
   "outputs": [
    {
     "name": "stdout",
     "output_type": "stream",
     "text": [
      "0\n",
      "1\n",
      "2\n",
      "3\n",
      "4\n",
      "5\n",
      "6\n",
      "7\n",
      "8\n",
      "9\n"
     ]
    }
   ],
   "source": [
    "def counter_gen(count):\n",
    "    i = 0\n",
    "    def counter():\n",
    "        nonlocal i\n",
    "        i += 1\n",
    "        if i <= count:\n",
    "            return i - 1\n",
    "        else:\n",
    "            return None\n",
    "    return counter\n",
    "\n",
    "count = counter_gen(10)\n",
    "while True:\n",
    "    i = count()\n",
    "    if i == None:\n",
    "        break\n",
    "    print(i)"
   ]
  },
  {
   "cell_type": "markdown",
   "metadata": {},
   "source": [
    "Maybe it doesn't look that simple. Let's break it down. Inside of the counter_gen function we create a scope. That scope has two variables in it, the count which is passed in as a variable and i which we assign a value of 0. Then we define a counter function inside of *that* function.\n",
    "\n",
    "This counter function has access to count and i. Because it will change the value of i it needs the nonlocal keyword. Otherwise it will complain like in our global variable example above.\n",
    "\n",
    "Counter has a simple job. Increment i. If i is less than or equal to count return i - 1, the previous value of i. If not return None.\n",
    "\n",
    "If we didn't explicitly return None there the code would work just as well but I would argue that would be less clear. This function returns None if we are done counting.\n",
    "\n",
    "Now here is the important part. In the outermost scope when we call the counter_gen function it returns a function that we assign to count. That function has state that persists when it is called over and over. Closures are one of the ways we can bind state to functions.\n",
    "\n",
    "Now Python has a whole concept called \"generators\" that power many of the features we take for granted like ranges. I'll save a full discussion of those for another time."
   ]
  },
  {
   "cell_type": "markdown",
   "metadata": {},
   "source": [
    "## Decorators\n",
    "I can't help myself let's cram one more difficult confusing topic in here. You're welcome ;)\n",
    "\n",
    "Suppose we want to see how many times we call a function. Let's write a bad and slow recursive function to find Fibonacchi numbers:"
   ]
  },
  {
   "cell_type": "code",
   "execution_count": 9,
   "metadata": {
    "collapsed": false
   },
   "outputs": [
    {
     "name": "stdout",
     "output_type": "stream",
     "text": [
      "89\n"
     ]
    }
   ],
   "source": [
    "def fib(n):\n",
    "    if n < 2:\n",
    "        return 1\n",
    "    return fib(n-1) + fib(n-2)\n",
    "print(fib(10))"
   ]
  },
  {
   "cell_type": "markdown",
   "metadata": {},
   "source": [
    "How many times was this function called? Well we can increment a counter every time:"
   ]
  },
  {
   "cell_type": "code",
   "execution_count": 14,
   "metadata": {
    "collapsed": false
   },
   "outputs": [
    {
     "name": "stdout",
     "output_type": "stream",
     "text": [
      "89\n",
      "('count:', 177)\n"
     ]
    }
   ],
   "source": [
    "count = 0\n",
    "def fib(n):\n",
    "    global count\n",
    "    count += 1\n",
    "    if n < 2:\n",
    "        return 1\n",
    "    return fib(n-1) + fib(n-2)\n",
    "print(fib(10))\n",
    "print(\"count:\", count)"
   ]
  },
  {
   "cell_type": "markdown",
   "metadata": {},
   "source": [
    "## Exercise\n",
    "\n",
    "### Tally App\n",
    "You have been tasked with writing a function that takes care of tallying up names. I've got you started below."
   ]
  },
  {
   "cell_type": "code",
   "execution_count": 10,
   "metadata": {
    "collapsed": false
   },
   "outputs": [
    {
     "name": "stdout",
     "output_type": "stream",
     "text": [
      "2\n",
      "{'Sally': 2, 'John': 1, 'Jawn': 1}\n"
     ]
    }
   ],
   "source": [
    "def tally_gen():\n",
    "    data = {}\n",
    "    def func(name):\n",
    "        if name == \"report\":\n",
    "            return data\n",
    "        if not name in data:\n",
    "            data[name] = 0\n",
    "        data[name] += 1\n",
    "        return data[name]\n",
    "    return func\n",
    "\n",
    "tally = tally_gen()\n",
    "tally(\"Sally\")\n",
    "tally(\"John\")\n",
    "tally(\"Jawn\")\n",
    "print(tally(\"Sally\")) # should print 2\n",
    "print(tally(\"report\")) # should print {'Sally': 2, 'John': 1, 'Jawn': 1}"
   ]
  },
  {
   "cell_type": "markdown",
   "metadata": {},
   "source": [
    "The tally function your tally_gen function returns should have the following features.\n",
    "\n",
    "1. If passed the string \"report\" it should return the dictionary that stores the tally data.\n",
    "1. If passed anything else check if that item is in the data. If it isn't add it as a key to data with a value of 1. If it is then increment its value by 1. The function should return the value."
   ]
  }
 ],
 "metadata": {
  "kernelspec": {
   "display_name": "Python 2",
   "language": "python",
   "name": "python2"
  },
  "language_info": {
   "codemirror_mode": {
    "name": "ipython",
    "version": 2
   },
   "file_extension": ".py",
   "mimetype": "text/x-python",
   "name": "python",
   "nbconvert_exporter": "python",
   "pygments_lexer": "ipython2",
   "version": "2.7.13"
  }
 },
 "nbformat": 4,
 "nbformat_minor": 4
}
