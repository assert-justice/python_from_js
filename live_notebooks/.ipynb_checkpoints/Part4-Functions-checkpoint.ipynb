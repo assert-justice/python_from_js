{
 "cells": [
  {
   "cell_type": "markdown",
   "metadata": {},
   "source": [
    "# Part 4 - Functions\n",
    "Functions should feel pretty familiar coming from JS, they work pretty similarly in Python. As you can expect there are some edge cases to tackle. "
   ]
  },
  {
   "cell_type": "markdown",
   "metadata": {},
   "source": [
    "## Anatomy of a Function\n",
    "Below is an exceedingly simple function that doubles numbers."
   ]
  },
  {
   "cell_type": "code",
   "execution_count": 1,
   "metadata": {},
   "outputs": [
    {
     "name": "stdout",
     "output_type": "stream",
     "text": [
      "20\n"
     ]
    }
   ],
   "source": [
    "def doubler(n):\n",
    "    return n * 2\n",
    "\n",
    "print( doubler(10) )"
   ]
  },
  {
   "cell_type": "markdown",
   "metadata": {},
   "source": [
    "Instead of the `function` keyword in JS we use `def`. As everywhere in Python when we indicate a block of code we do that with a colon followed by the indented block of code. Return statements are pretty much the same. Let's write a less trivial function then."
   ]
  },
  {
   "cell_type": "code",
   "execution_count": 2,
   "metadata": {},
   "outputs": [
    {
     "name": "stdout",
     "output_type": "stream",
     "text": [
      "26\n",
      "7\n"
     ]
    }
   ],
   "source": [
    "import random\n",
    "\n",
    "def roll(number, size):\n",
    "    total = 0\n",
    "    for _ in range(number): # we can use an underscore when we don't need a variable\n",
    "        total += random.randrange(1, size+1)\n",
    "    return total\n",
    "\n",
    "print( roll(5, 6) ) # roll 5 six sided dice. Yhatzee!\n",
    "print( roll(3, 4) ) # roll 3 four sided dice. Magic Missile!"
   ]
  },
  {
   "cell_type": "markdown",
   "metadata": {},
   "source": [
    "## Lambdas\n",
    "Coming from JS you might wonder \"what about arrow functions?\" Well fear not. Python has an analogue in the lambda function. It's a little more limited though. A design ethos of Python is \"There should be one, and preferably only one obvious way to do something\" and so they deliberately limit certain features to not compete with others. Let's take a look. Here is how we would write our doubler function as a lambda."
   ]
  },
  {
   "cell_type": "code",
   "execution_count": 3,
   "metadata": {},
   "outputs": [
    {
     "name": "stdout",
     "output_type": "stream",
     "text": [
      "20\n"
     ]
    }
   ],
   "source": [
    "doubler = lambda n: n * 2\n",
    "print( doubler(10) )"
   ]
  },
  {
   "cell_type": "markdown",
   "metadata": {},
   "source": [
    "In JS we could write the same function as follows:\n",
    "\n",
    "```JavaScript\n",
    "const doubler = n => n * 2;\n",
    "```\n",
    "\n",
    "Now unlike JS creating a lambda function only to assign it to a variable is not considered Pythonic. Normally when you use a lambda you use it right away in a list comprehension or in a sort or something like that. Arrow functions and lambda functions are both examples of the broader concept of anonomous functions. That is to say functions that don't have a name. Lambda refers to the mathematical model for computation Alonzo Church developed in the 30s with the incredibly scary name of \"Lambda Calculus\". But that's a spiel for another day.\n",
    "\n",
    "Now my astute pupil, you will no doubt be wondering how we can make our dice rolling function a lambda function. And the short answer is... you can't. Lambda functions can only contain a single expression they cannot contain statements. They are similar to JS arrow functions whos function body is *not* wrapped in braces as in the example above. This is what I mean when I say lambdas are deliberately limited. The reasoning goes that if you really need statements in a function then it should just be a regular function with the `def` keyword. Fair enough?"
   ]
  },
  {
   "cell_type": "markdown",
   "metadata": {},
   "source": [
    "## Interlude: Monte Carlo Sims\n",
    "You'll have to indulge me. It is wise to split your scripts up into functions such that each function has a clearly defined set of responsibilities and Monte Carlo Sims are just a lovely example of that."
   ]
  },
  {
   "cell_type": "markdown",
   "metadata": {},
   "source": [
    "## Default Params and Named Params\n",
    "Suppose we want our rolling function above to default to six sided dice? Easy enough:"
   ]
  },
  {
   "cell_type": "code",
   "execution_count": 5,
   "metadata": {},
   "outputs": [
    {
     "name": "stdout",
     "output_type": "stream",
     "text": [
      "9\n",
      "18\n"
     ]
    }
   ],
   "source": [
    "import random\n",
    "\n",
    "def roll(number, size = 6):\n",
    "    total = 0\n",
    "    for _ in range(number): # we can use an underscore when we don't need a variable\n",
    "        total += random.randrange(1, size+1)\n",
    "    return total\n",
    "\n",
    "print( roll(5) ) # rolls 5 six sided dice again.\n",
    "print( roll(2, 20) ) # rolls 2 twenty sided dice"
   ]
  },
  {
   "cell_type": "markdown",
   "metadata": {},
   "source": [
    "One thing to note, if you pass a JS function the wrong number of arguments JS won't complain. If you pass it too many it will simply ignore the extrass. Pass it too few and the missing ones default to undefined. This is *terrible*. It's a source of a ton of beginner errors and trips up everyone who uses it. Python has arity checking that is to say if you pass a Python function the wrong number of arguments it will yell at you. This is a good thing. If you pass a function the wrong number of arguments it is almost certainly a mistake. Better to find out sooner rather than later.\n",
    "\n",
    "Anyway the above function works like the roll function we looked at earlier except now we have a default value for the size parameter. Splendid. That means that our roll function accepts either one or two arguments but if we pass it more or fewer than that Python will throw an error.\n",
    "\n",
    "Ready for something cool? Something liberatory? Something that is, as far as I know, unique to Python? Hold onto your butt let's write another function."
   ]
  },
  {
   "cell_type": "code",
   "execution_count": 1,
   "metadata": {},
   "outputs": [
    {
     "name": "stdout",
     "output_type": "stream",
     "text": [
      "{'first_name': 'Audrey', 'last_name': 'Horne', 'age': 29, 'occupation': 'heiress'}\n",
      "{'first_name': 'Harry', 'last_name': 'Truman', 'age': 40, 'occupation': 'Sherrif'}\n"
     ]
    }
   ],
   "source": [
    "def gen_person(first_name = \"Audrey\", last_name = \"Horne\", age = 29, occupation = \"heiress\"):\n",
    "    return {\n",
    "        \"first_name\": first_name,\n",
    "        \"last_name\": last_name,\n",
    "        \"age\": age,\n",
    "        \"occupation\": occupation\n",
    "    }\n",
    "\n",
    "audrey = gen_person()\n",
    "print(audrey) # prints {'first_name': 'Audrey', 'last_name': 'Horne', 'age': 29, 'occupation': 'heiress'}\n",
    "harry = gen_person(\"Harry\", \"Truman\", 40, \"Sherrif\")\n",
    "print(harry) # prints {'first_name': 'Harry', 'last_name': 'Truman', 'age': 40, 'occupation': 'Sherrif'}"
   ]
  },
  {
   "cell_type": "markdown",
   "metadata": {},
   "source": [
    "So we've defined a function called gen_person that accepts several optional arguments including first name, last name, age, and occupation. It defaults to Audrey Horne's data which seems sensible. If, for some reason, you wanted to create a person completely unlike Audrey you could pass every argument like we're doing with Harry here. But suppose we want to call the function such that Audrey's occupation is businesswoman? In most programming languages you would be out of luck, you would just have to pass all the arguments manually. But in Python..."
   ]
  },
  {
   "cell_type": "code",
   "execution_count": 3,
   "metadata": {},
   "outputs": [
    {
     "name": "stdout",
     "output_type": "stream",
     "text": [
      "{'first_name': 'Audrey', 'last_name': 'Horne', 'age': 29, 'occupation': 'businesswoman'}\n"
     ]
    }
   ],
   "source": [
    "audrey = gen_person(occupation = \"businesswoman\")\n",
    "print(audrey)"
   ]
  },
  {
   "cell_type": "markdown",
   "metadata": {},
   "source": [
    "This makes working with functions with gobs of default variables a breeze and the standard library uses it liberally."
   ]
  },
  {
   "cell_type": "markdown",
   "metadata": {},
   "source": [
    "## Pass by Value, Pass by Reference, and Pass by Object\n"
   ]
  },
  {
   "cell_type": "markdown",
   "metadata": {},
   "source": [
    "## Scope, Shadowing, and some Unusual Keywords"
   ]
  },
  {
   "cell_type": "markdown",
   "metadata": {},
   "source": [
    "## Closures and Factory Functions"
   ]
  },
  {
   "cell_type": "markdown",
   "metadata": {},
   "source": [
    "## Exercise\n",
    "tally app"
   ]
  }
 ],
 "metadata": {
  "kernelspec": {
   "display_name": "Python 3 (ipykernel)",
   "language": "python",
   "name": "python3"
  },
  "language_info": {
   "codemirror_mode": {
    "name": "ipython",
    "version": 3
   },
   "file_extension": ".py",
   "mimetype": "text/x-python",
   "name": "python",
   "nbconvert_exporter": "python",
   "pygments_lexer": "ipython3",
   "version": "3.9.7"
  }
 },
 "nbformat": 4,
 "nbformat_minor": 4
}
