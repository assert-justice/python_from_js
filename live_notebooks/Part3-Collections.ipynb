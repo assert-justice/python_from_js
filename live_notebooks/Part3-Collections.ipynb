{
 "cells": [
  {
   "cell_type": "markdown",
   "metadata": {},
   "source": [
    "# Part 3 - Collections & Iterables\n",
    "This is a pretty big lesson and we have a lot of ground to cover. \n",
    "\n",
    "You're familiar with arrays and objects from JS. We can group data together in various useful ways like dynamic arrays, sets, key value pairs, and so on. These different structures are referred to as collections.\n",
    "\n",
    "Looping through the elements of an array or the keys in an object is a very common operation, common enough that it has been generalized into the concept of an \"iterable\". \n",
    "\n",
    "In JavaScript collections had their own methods, functions bound to the object in question. Python has these too but if a concept is more general it is made into a standalone function that can be passed several different types of objects and knows how to work with each one. This concept is referred to as \"duck typing\" (if it looks like a duck and quacks like a duck it's a duck, seriously) and if it seems abstract now I'll give lots of examples."
   ]
  },
  {
   "cell_type": "markdown",
   "metadata": {},
   "source": [
    "## Lists\n",
    "Python calls dynamic arrays lists. **Python lists are not linked lists**. They are regular dynamic arrays with the expected time complexities for different operations. "
   ]
  },
  {
   "cell_type": "code",
   "execution_count": 10,
   "metadata": {
    "collapsed": true,
    "jupyter": {
     "outputs_hidden": true
    }
   },
   "outputs": [],
   "source": [
    "nums = [5, 7, 20, 14, 9, 8] # A list of integers."
   ]
  },
  {
   "cell_type": "markdown",
   "metadata": {},
   "source": [
    "We can access a value at an index with brackets like so."
   ]
  },
  {
   "cell_type": "code",
   "execution_count": 11,
   "metadata": {
    "collapsed": false,
    "jupyter": {
     "outputs_hidden": false
    }
   },
   "outputs": [
    {
     "name": "stdout",
     "output_type": "stream",
     "text": [
      "14\n",
      "[5, 7, 20, 16, 9, 8]\n"
     ]
    }
   ],
   "source": [
    "print( nums[3] ) # prints 14, the integer at index 3\n",
    "nums[3] = 16 # sets the integer at index 3 to 16\n",
    "print(nums)"
   ]
  },
  {
   "cell_type": "markdown",
   "metadata": {},
   "source": [
    "Unlike JS negative indicies are supported. Check it out:"
   ]
  },
  {
   "cell_type": "code",
   "execution_count": 12,
   "metadata": {
    "collapsed": false,
    "jupyter": {
     "outputs_hidden": false
    }
   },
   "outputs": [
    {
     "name": "stdout",
     "output_type": "stream",
     "text": [
      "8\n",
      "9\n"
     ]
    }
   ],
   "source": [
    "print( nums[-1] ) # prints 8, the last thing in the array\n",
    "print( nums[-2] ) # prints 9, the second to last thing in the array"
   ]
  },
  {
   "cell_type": "markdown",
   "metadata": {},
   "source": [
    "So that's handy. We can add a number to the end of the array with append. It's the equivalent of push."
   ]
  },
  {
   "cell_type": "code",
   "execution_count": 6,
   "metadata": {
    "collapsed": false,
    "jupyter": {
     "outputs_hidden": false
    }
   },
   "outputs": [
    {
     "name": "stdout",
     "output_type": "stream",
     "text": [
      "[5, 7, 20, 14, 9, 8, 10]\n"
     ]
    }
   ],
   "source": [
    "nums.append(10)\n",
    "print(nums)"
   ]
  },
  {
   "cell_type": "markdown",
   "metadata": {},
   "source": [
    "We can remove something from the end of a list with pop."
   ]
  },
  {
   "cell_type": "code",
   "execution_count": 7,
   "metadata": {
    "collapsed": false,
    "jupyter": {
     "outputs_hidden": false
    }
   },
   "outputs": [
    {
     "name": "stdout",
     "output_type": "stream",
     "text": [
      "[5, 7, 20, 14, 9, 8]\n",
      "10\n"
     ]
    }
   ],
   "source": [
    "val = nums.pop()\n",
    "print(nums) # the original list\n",
    "print(val) # the value we popped from the list"
   ]
  },
  {
   "cell_type": "markdown",
   "metadata": {},
   "source": [
    "If we want to remove a particular element we can pass pop an optional argument, an index to pop from."
   ]
  },
  {
   "cell_type": "code",
   "execution_count": 8,
   "metadata": {
    "collapsed": false,
    "jupyter": {
     "outputs_hidden": false
    }
   },
   "outputs": [
    {
     "name": "stdout",
     "output_type": "stream",
     "text": [
      "[5, 7, 14, 9, 8]\n"
     ]
    }
   ],
   "source": [
    "nums.pop(2) # pop whatever is at index 2 (20)\n",
    "print(nums) # no more 20!"
   ]
  },
  {
   "cell_type": "markdown",
   "metadata": {},
   "source": [
    "We can also insert a number at an arbitrary point. Let's say we want to put 20 back at position 2."
   ]
  },
  {
   "cell_type": "code",
   "execution_count": 9,
   "metadata": {
    "collapsed": false,
    "jupyter": {
     "outputs_hidden": false
    }
   },
   "outputs": [
    {
     "name": "stdout",
     "output_type": "stream",
     "text": [
      "[5, 7, 20, 14, 9, 8]\n"
     ]
    }
   ],
   "source": [
    "nums.insert(2, 20) # first argument is the index, second argument is the object to insert.\n",
    "print(nums)"
   ]
  },
  {
   "cell_type": "markdown",
   "metadata": {},
   "source": [
    "None of that shift unshift crap you're welcome. To get the length of a list we don't use a length method. We use a built in function called len."
   ]
  },
  {
   "cell_type": "code",
   "execution_count": 14,
   "metadata": {
    "collapsed": false,
    "jupyter": {
     "outputs_hidden": false
    }
   },
   "outputs": [
    {
     "name": "stdout",
     "output_type": "stream",
     "text": [
      "[5, 7, 20, 16, 9, 8]\n",
      "6\n"
     ]
    }
   ],
   "source": [
    "print(nums)\n",
    "print( len(nums) )"
   ]
  },
  {
   "cell_type": "markdown",
   "metadata": {},
   "source": [
    "There are six things in the array! How can you determine if something is in a list? Easy! We have the in operator."
   ]
  },
  {
   "cell_type": "code",
   "execution_count": 15,
   "metadata": {
    "collapsed": false,
    "jupyter": {
     "outputs_hidden": false
    }
   },
   "outputs": [
    {
     "name": "stdout",
     "output_type": "stream",
     "text": [
      "found a 7!\n",
      "no 50 here\n",
      "True\n",
      "False\n"
     ]
    }
   ],
   "source": [
    "if 7 in nums:\n",
    "    print(\"found a 7!\")\n",
    "if not 50 in nums:\n",
    "    print(\"no 50 here\")\n",
    "print( 9 in nums) # true\n",
    "print( 13 in nums) # false"
   ]
  },
  {
   "cell_type": "markdown",
   "metadata": {},
   "source": [
    "## Slicing and Concatenation\n",
    "\n",
    "How do you concatenate lists? Couldn't be simpler."
   ]
  },
  {
   "cell_type": "code",
   "execution_count": 1,
   "metadata": {
    "collapsed": false
   },
   "outputs": [
    {
     "name": "stdout",
     "output_type": "stream",
     "text": [
      "[1, 2, 3, 4, 5, 6]\n"
     ]
    }
   ],
   "source": [
    "list1 = [1, 2, 3]\n",
    "list2 = [4, 5, 6]\n",
    "print(list1 + list2)"
   ]
  },
  {
   "cell_type": "markdown",
   "metadata": {},
   "source": [
    "It's just a plus sign! Like with strings. So that's nice and tidy. You might wonder what happens if you do that in JavaScript? Don't. Maintain your innocence.\n",
    "\n",
    "So let's talk slicing. Slicing is a big deal in Python. Manipulating strings and lists and things in a clear concise way is one of the things Python excells at. Let's introduce the slice syntax:"
   ]
  },
  {
   "cell_type": "code",
   "execution_count": 3,
   "metadata": {
    "collapsed": false
   },
   "outputs": [
    {
     "name": "stdout",
     "output_type": "stream",
     "text": [
      "[10, 11]\n"
     ]
    }
   ],
   "source": [
    "ls = [4, 2, 10, 11, 7, 8, 9]\n",
    "sublist = ls[2: 4]\n",
    "print(sublist)"
   ]
  },
  {
   "cell_type": "markdown",
   "metadata": {},
   "source": [
    "So we create a list as normal. But then we see some special syntax: `ls[2: 4]`. What's up with that?\n",
    "\n",
    "Within the brackets we supply two numbers seperated by a colon. The first number is the index to start on. You can see that 10 is at index 2 in ls. The second number is the index to end on, meaning, the index of the first element *not* included. 7 is at index 4 in our list so our slice only contains two numbers: 10 and 11.\n",
    "\n",
    "These start and end indicies are actually optional. They have the default values of 0 and the length of the list respectively. Let's look at some examples:"
   ]
  },
  {
   "cell_type": "code",
   "execution_count": 4,
   "metadata": {
    "collapsed": false
   },
   "outputs": [
    {
     "name": "stdout",
     "output_type": "stream",
     "text": [
      "[4, 2, 10, 11, 7, 8, 9]\n",
      "[4, 2, 10, 11]\n",
      "[7, 8, 9]\n"
     ]
    }
   ],
   "source": [
    "ls = [4, 2, 10, 11, 7, 8, 9]\n",
    "print( ls[:] ) # Get a shallow copy of the list\n",
    "print( ls[:4] ) # Starting from index 0 get the first four elements in the list up to index 3.\n",
    "print( ls[4:] ) # Starting from index 4 get the rest of the list."
   ]
  },
  {
   "cell_type": "markdown",
   "metadata": {},
   "source": [
    "Negative indicies are still supported. They are really handy for working with the end of a list. Like so:"
   ]
  },
  {
   "cell_type": "code",
   "execution_count": 7,
   "metadata": {
    "collapsed": false
   },
   "outputs": [
    {
     "name": "stdout",
     "output_type": "stream",
     "text": [
      "[9]\n",
      "[4, 2, 10, 11, 7, 8]\n",
      "[11, 7, 8, 9]\n"
     ]
    }
   ],
   "source": [
    "ls = [4, 2, 10, 11, 7, 8, 9]\n",
    "print( ls[-1:] ) # Get a list with just the last element of ls in it.\n",
    "print( ls[:-1] ) # Get a list with everything *but* the last element of ls.\n",
    "print( ls[-4:] ) # Get the last four elements from the list."
   ]
  },
  {
   "cell_type": "markdown",
   "metadata": {},
   "source": [
    "So that's nifty. I'm introducing this syntax now so it doesn't blindside you later. As I say it's a very powerful and concise way of working with lists and other collections. Stay tuned!"
   ]
  },
  {
   "cell_type": "markdown",
   "metadata": {},
   "source": [
    "## For Loops\n",
    "You might have been surprised earlier when I covered while loops but not for loops. Well guess what hot stuff now's the time.\n",
    "\n",
    "For loops in Python work a lot like for of loops in JS. Let's look at an example:"
   ]
  },
  {
   "cell_type": "code",
   "execution_count": 8,
   "metadata": {
    "collapsed": false
   },
   "outputs": [
    {
     "name": "stdout",
     "output_type": "stream",
     "text": [
      "4\n",
      "2\n",
      "10\n",
      "11\n",
      "7\n",
      "8\n",
      "9\n",
      "Your sum is 51 ya doofus. Whaddya want from me?\n"
     ]
    }
   ],
   "source": [
    "# You want a sum of numbers? I got one right here for ya\n",
    "ls = [4, 2, 10, 11, 7, 8, 9]\n",
    "total = 0\n",
    "\n",
    "for number in ls:\n",
    "    print(number)\n",
    "    total += number\n",
    "\n",
    "print(\"Your sum is\", total, \"ya doofus. Whaddya want from me?\")"
   ]
  },
  {
   "cell_type": "markdown",
   "metadata": {},
   "source": [
    "As you can see we loop through ls printing each number an adding it to total. Then we print out the total in an exceedingly broad East Coast accent. As you do. Nice and tidy isn't it? Consider how we would do this with a while loop:"
   ]
  },
  {
   "cell_type": "code",
   "execution_count": 12,
   "metadata": {
    "collapsed": false
   },
   "outputs": [
    {
     "name": "stdout",
     "output_type": "stream",
     "text": [
      "4\n",
      "2\n",
      "10\n",
      "11\n",
      "7\n",
      "8\n",
      "9\n",
      "Total: 51\n"
     ]
    }
   ],
   "source": [
    "ls = [4, 2, 10, 11, 7, 8, 9]\n",
    "total = 0\n",
    "# Gross\n",
    "i = 0\n",
    "\n",
    "while i < len(ls):\n",
    "    print(ls[i])\n",
    "    total += ls[i]\n",
    "    i += 1\n",
    "\n",
    "print(\"Total:\", total)"
   ]
  },
  {
   "cell_type": "markdown",
   "metadata": {},
   "source": [
    "Gross. Repulsive. Gauche. Forget to increment i? Infinite loop. This approach is also a little slower for what it's worth.\n",
    "\n",
    "If you spend any time online reading about Python you will hear the word \"Pythonic\" a lot. Python programmers are more concerned with beauty, aesthetics, and philosophy than trivialities like \"will it run?\" or \"is it useful?\"\n",
    "\n",
    "I kid still a lot of focus is put on best practices and clarity in the Python community.\n",
    "\n",
    "What if we want to change a list in place though? Let's write a loop that doubles each number in an array."
   ]
  },
  {
   "cell_type": "code",
   "execution_count": 7,
   "metadata": {
    "collapsed": false
   },
   "outputs": [
    {
     "name": "stdout",
     "output_type": "stream",
     "text": [
      "[8, 4, 20, 22, 14, 16, 18]\n"
     ]
    }
   ],
   "source": [
    "ls = [4, 2, 10, 11, 7, 8, 9]\n",
    "i = 0\n",
    "\n",
    "while i < len(ls):\n",
    "    ls[i] *= 2\n",
    "    i += 1\n",
    "\n",
    "print(ls)"
   ]
  },
  {
   "cell_type": "markdown",
   "metadata": {},
   "source": [
    "How could we do that with a for loop? We'll see soon enough."
   ]
  },
  {
   "cell_type": "markdown",
   "metadata": {},
   "source": [
    "## Ranges\n",
    "What we would like to do is print out some indicies, let's say from 0 to 9. As we've seen we could do this with a while loop but that's not ideal. How do we do it with a for loop? Introducing: the range function!"
   ]
  },
  {
   "cell_type": "code",
   "execution_count": 8,
   "metadata": {
    "collapsed": false
   },
   "outputs": [
    {
     "name": "stdout",
     "output_type": "stream",
     "text": [
      "0\n",
      "1\n",
      "2\n",
      "3\n",
      "4\n",
      "5\n",
      "6\n",
      "7\n",
      "8\n",
      "9\n"
     ]
    }
   ],
   "source": [
    "for i in range(10):\n",
    "    print(i)"
   ]
  },
  {
   "cell_type": "markdown",
   "metadata": {},
   "source": [
    "So what is range? Well in older versions of Python it would generate and return a list, something like this:\n",
    "\n",
    "```\n",
    "[0, 1, 2, 3, 4, 5, 6, 7, 8, 9]\n",
    "```\n",
    "\n",
    "Nowadays it's something called a generator which is a concept we'll get to eventually. What matters now is that ranges are *iterable* just like lists are. You can loop through them with a for loop and Python will handle keeping track of your place in an iterable and stop at the end automatically. \n",
    "\n",
    "In the above example we just passed it a number. That produces a range object iterating from 0 to one less than that number. Let's look at how we could sum the numbers between 1 and 10."
   ]
  },
  {
   "cell_type": "code",
   "execution_count": 11,
   "metadata": {
    "collapsed": false
   },
   "outputs": [
    {
     "name": "stdout",
     "output_type": "stream",
     "text": [
      "1\n",
      "2\n",
      "3\n",
      "4\n",
      "5\n",
      "6\n",
      "7\n",
      "8\n",
      "9\n",
      "10\n",
      "Total: 55\n"
     ]
    }
   ],
   "source": [
    "total = 0\n",
    "for i in range(1, 11):\n",
    "    print(i)\n",
    "    total += i\n",
    "print(\"Total:\", total)"
   ]
  },
  {
   "cell_type": "markdown",
   "metadata": {},
   "source": [
    "What if you want to skip numbers? We can pass it a third optional argument to set the step size like so:"
   ]
  },
  {
   "cell_type": "code",
   "execution_count": 12,
   "metadata": {
    "collapsed": false
   },
   "outputs": [
    {
     "name": "stdout",
     "output_type": "stream",
     "text": [
      "1\n",
      "3\n",
      "5\n",
      "7\n",
      "9\n"
     ]
    }
   ],
   "source": [
    "for i in range(1, 11, 2):\n",
    "    print(i)"
   ]
  },
  {
   "cell_type": "markdown",
   "metadata": {},
   "source": [
    "That just prints the odd numbers between 1 and 10. Nice!\n",
    "\n",
    "Now I hesitate to show you this next bit because it is *not* Pythonic heaven forbid. But we don't have quite enough knowledge for the Pythonic way yet. Let's double the numbers in an array in place."
   ]
  },
  {
   "cell_type": "code",
   "execution_count": 14,
   "metadata": {
    "collapsed": false
   },
   "outputs": [
    {
     "name": "stdout",
     "output_type": "stream",
     "text": [
      "[8, 4, 20, 22, 14, 16, 18]\n"
     ]
    }
   ],
   "source": [
    "ls = [4, 2, 10, 11, 7, 8, 9]\n",
    "\n",
    "for i in range( len(ls) ):\n",
    "    ls[i] *= 2\n",
    "\n",
    "print(ls)"
   ]
  },
  {
   "cell_type": "markdown",
   "metadata": {},
   "source": [
    "So this is how we can write a C style (and JavaScript style) for loop in Python. We get the length of the array (7), create a range object from 0 to 6, and iterate through it using those numbers as indicies into the array. This is a common pattern for people just learning Python it's not great. Later on we will learn the enumerate function and everything will be well."
   ]
  },
  {
   "cell_type": "markdown",
   "metadata": {},
   "source": [
    "## Strings and String Formatting\n",
    "Ah strings. Nice and simple. Familiar. You got your hello worlds, print your name, that kind of fun stuff. For the following examples we'll be using the following string:"
   ]
  },
  {
   "cell_type": "code",
   "execution_count": 20,
   "metadata": {
    "collapsed": true
   },
   "outputs": [],
   "source": [
    "s = \"I am the very model of the modern Major General.\""
   ]
  },
  {
   "cell_type": "markdown",
   "metadata": {},
   "source": [
    "How long is the string s? Is there a .length method? Well you've already seen how to get the length of a list. It was the stand alone len function. Let's give it a shot:"
   ]
  },
  {
   "cell_type": "code",
   "execution_count": 21,
   "metadata": {
    "collapsed": false
   },
   "outputs": [
    {
     "name": "stdout",
     "output_type": "stream",
     "text": [
      "48\n"
     ]
    }
   ],
   "source": [
    "print( len(s) )"
   ]
  },
  {
   "cell_type": "markdown",
   "metadata": {},
   "source": [
    "And just like that we have our length. The len function works on any iterable, it isn't tied to a specific type. Let's slice off the front of the string. Starting from index 0 and going to index 18:"
   ]
  },
  {
   "cell_type": "code",
   "execution_count": 24,
   "metadata": {
    "collapsed": false
   },
   "outputs": [
    {
     "name": "stdout",
     "output_type": "stream",
     "text": [
      "I am the very model\n"
     ]
    }
   ],
   "source": [
    "print( s[:19] )"
   ]
  },
  {
   "cell_type": "markdown",
   "metadata": {},
   "source": [
    "Tidy! Now we can loop through the characters in a string. We can even iterate through our slice! Let's do that:"
   ]
  },
  {
   "cell_type": "code",
   "execution_count": 25,
   "metadata": {
    "collapsed": false
   },
   "outputs": [
    {
     "name": "stdout",
     "output_type": "stream",
     "text": [
      "I\n",
      " \n",
      "a\n",
      "m\n",
      " \n",
      "t\n",
      "h\n",
      "e\n",
      " \n",
      "v\n",
      "e\n",
      "r\n",
      "y\n",
      " \n",
      "m\n",
      "o\n",
      "d\n",
      "e\n",
      "l\n"
     ]
    }
   ],
   "source": [
    "for c in s[:19]:\n",
    "    print(c)"
   ]
  },
  {
   "cell_type": "markdown",
   "metadata": {},
   "source": [
    "So how do we split a string? Is there a standalone function for that? No as it happens, that's a string method."
   ]
  },
  {
   "cell_type": "code",
   "execution_count": 26,
   "metadata": {
    "collapsed": false
   },
   "outputs": [
    {
     "name": "stdout",
     "output_type": "stream",
     "text": [
      "['I', 'am', 'the', 'very', 'model', 'of', 'the', 'modern', 'Major', 'General.']\n"
     ]
    }
   ],
   "source": [
    "print(s.split())"
   ]
  },
  {
   "cell_type": "markdown",
   "metadata": {},
   "source": [
    "We called split and that split the string by its spaces. Splitting is specific to strings. We can ask for the length of all sorts of things but we can only split strings. That's why split is a string method.\n",
    "\n",
    "We can pass split a seperator if we want to split on something else."
   ]
  },
  {
   "cell_type": "code",
   "execution_count": 27,
   "metadata": {
    "collapsed": false
   },
   "outputs": [
    {
     "name": "stdout",
     "output_type": "stream",
     "text": [
      "[\"It's\", 'a', 'me', 'a', 'CSV']\n"
     ]
    }
   ],
   "source": [
    "csv = \"It's,a,me,a,CSV\"\n",
    "print(csv.split(\",\"))"
   ]
  },
  {
   "cell_type": "markdown",
   "metadata": {},
   "source": [
    "Back to our original string, let's print out every word in our sentance."
   ]
  },
  {
   "cell_type": "code",
   "execution_count": 28,
   "metadata": {
    "collapsed": false
   },
   "outputs": [
    {
     "name": "stdout",
     "output_type": "stream",
     "text": [
      "I\n",
      "am\n",
      "the\n",
      "very\n",
      "model\n",
      "of\n",
      "the\n",
      "modern\n",
      "Major\n",
      "General.\n"
     ]
    }
   ],
   "source": [
    "for word in s.split():\n",
    "    print(word)"
   ]
  },
  {
   "cell_type": "markdown",
   "metadata": {},
   "source": [
    "Ok so we've talked about splitting, how about joining? Is there a list method for join like there is an array method in JS? In Python join is actually... a string method."
   ]
  },
  {
   "cell_type": "code",
   "execution_count": 29,
   "metadata": {
    "collapsed": false
   },
   "outputs": [
    {
     "name": "stdout",
     "output_type": "stream",
     "text": [
      "Joinmeupbeforeyougo-go\n",
      "Join me up before you go-go\n",
      "Join,me,up,before,you,go-go\n",
      "Join\tme\tup\tbefore\tyou\tgo-go\n"
     ]
    }
   ],
   "source": [
    "ls = [\"Join\", \"me\", \"up\", \"before\", \"you\", \"go-go\"]\n",
    "print( \"\".join(ls) ) # Empty seperator\n",
    "print( \" \".join(ls) ) # Single space seperator\n",
    "print( \",\".join(ls) ) # Comma seperator\n",
    "print( \"\\t\".join(ls) ) # Tab seperator"
   ]
  },
  {
   "cell_type": "markdown",
   "metadata": {},
   "source": [
    "This might be a little weird. It's pretty unique to Python as far as I'm aware. But it follows that joining is something you only do with strings. If you added a join method to lists Python would have to decide how to join lists of almost anything *and* it wouldn't work on other iterators. This is Python sticking to its guns and once you get used to it it should come naturally.\n",
    "\n",
    "There are a bunch more string methods, lower, upper, capitalize. But I'd say it's time to move on. We'll pick up the stragglers as we need them."
   ]
  },
  {
   "cell_type": "markdown",
   "metadata": {},
   "source": [
    "## Tuples, just worse lists?\n",
    "\"Riley?\" you ask me \"Lists just have too many damn features. Could I have a list that does less?\"\n",
    "\n",
    "Well my hypothetical student you are in luck. Python includes a datatype called tuples that are like lists but can't be changed once created."
   ]
  },
  {
   "cell_type": "code",
   "execution_count": 31,
   "metadata": {
    "collapsed": false
   },
   "outputs": [
    {
     "name": "stdout",
     "output_type": "stream",
     "text": [
      "(5, 10, 20, 40)\n",
      "20\n"
     ]
    }
   ],
   "source": [
    "tu = (5, 10, 20, 40) # just looks like a list, but with parens instead of brackets\n",
    "print(tu)\n",
    "print(tu[2])"
   ]
  },
  {
   "cell_type": "markdown",
   "metadata": {},
   "source": [
    "So far so good. Tuples look a lot like a list but they use parenthises instead of square brackets. We can print them, read from them, all good. But what if you try to modify it?"
   ]
  },
  {
   "cell_type": "code",
   "execution_count": 32,
   "metadata": {
    "collapsed": false
   },
   "outputs": [
    {
     "ename": "TypeError",
     "evalue": "'tuple' object does not support item assignment",
     "output_type": "error",
     "traceback": [
      "\u001b[1;31m---------------------------------------------------------------------------\u001b[0m",
      "\u001b[1;31mTypeError\u001b[0m                                 Traceback (most recent call last)",
      "Input \u001b[1;32mIn [32]\u001b[0m, in \u001b[0;36m<module>\u001b[1;34m\u001b[0m\n\u001b[0;32m      1\u001b[0m tu \u001b[38;5;241m=\u001b[39m (\u001b[38;5;241m5\u001b[39m, \u001b[38;5;241m10\u001b[39m, \u001b[38;5;241m20\u001b[39m, \u001b[38;5;241m40\u001b[39m)\n\u001b[1;32m----> 2\u001b[0m tu[\u001b[38;5;241m2\u001b[39m] \u001b[38;5;241m=\u001b[39m \u001b[38;5;241m60\u001b[39m\n",
      "\u001b[1;31mTypeError\u001b[0m: 'tuple' object does not support item assignment"
     ]
    }
   ],
   "source": [
    "tu = (5, 10, 20, 40)\n",
    "tu[2] = 60"
   ]
  },
  {
   "cell_type": "markdown",
   "metadata": {},
   "source": [
    "No dice. Tuples are immutable. In fact the only mutable type we have looked at so far is the list. Everything else, integers, floats, bools, strings, and of course tuples are immutable. This is a very important and fundamental feature of Python so it's worth spending some time on.\n",
    "\n",
    "Note that immutable objects are not like constant variables in JavaScript. Python does not have const. What immutability means is that the object cannot be modified *in place*. If we want to change the contents of a tuple we have to create a new one entirely."
   ]
  },
  {
   "cell_type": "code",
   "execution_count": 12,
   "metadata": {
    "collapsed": false
   },
   "outputs": [
    {
     "name": "stdout",
     "output_type": "stream",
     "text": [
      "(5, 10, 60, 40)\n"
     ]
    }
   ],
   "source": [
    "tu = (5, 10, 20, 40)\n",
    "ls = list(tu) # create a new list based on the contents of tu\n",
    "ls[2] = 60 # modify the contents of the list\n",
    "tu = tuple(ls) # create a *new* tuple based on ls and assign it to the same variable as before\n",
    "print(tu)"
   ]
  },
  {
   "cell_type": "markdown",
   "metadata": {},
   "source": [
    "This is just an example. The above is not very *Pythonic*.\n",
    "\n",
    "We can do something like JavaScript's destructuring to tuples (it works for lists too). Observe:"
   ]
  },
  {
   "cell_type": "code",
   "execution_count": 13,
   "metadata": {
    "collapsed": false
   },
   "outputs": [
    {
     "name": "stdout",
     "output_type": "stream",
     "text": [
      "5\n",
      "10\n",
      "60\n",
      "40\n"
     ]
    }
   ],
   "source": [
    "a, b, c, d = tu\n",
    "print(a)\n",
    "print(b)\n",
    "print(c)\n",
    "print(d)"
   ]
  },
  {
   "cell_type": "markdown",
   "metadata": {},
   "source": [
    "Here is the question though: why. Why bother with a collection type that is like a list but has fewer features? All shall be revealed."
   ]
  },
  {
   "cell_type": "markdown",
   "metadata": {},
   "source": [
    "## Sets\n",
    "Let me *set* you up for success. Ahem. Let's start with a formal definition for once.\n",
    "\n",
    "> A set is an unordered collection of unique, immutable objects.\n",
    "\n",
    "Let's break that down a bit. Unordered means that unlike a list elements in a set don't have indicies, they can't be accessed by their position in the set. \n",
    "\n",
    "Each element has to be unique, simple enough. An element is either in the set or not there cannot be duplicates.\n",
    "\n",
    "Finally each element has to be immutable. We just talked about this but almost every type we have discussed so far is immutable, the exception being lists. Well now we have a new one: sets themselves are mutable. That means, sad to say for math nerds, in Python sets cannot contain sets at least without a little work. Alac alas."
   ]
  },
  {
   "cell_type": "code",
   "execution_count": 6,
   "metadata": {
    "collapsed": false
   },
   "outputs": [
    {
     "name": "stdout",
     "output_type": "stream",
     "text": [
      "{'Sally', 'Ted', 'Jane', 'Alex'}\n"
     ]
    }
   ],
   "source": [
    "# We have a list of names but we have some duplicates. Let's get rid of those rascals.\n",
    "names = [\"Jane\", \"Sally\", \"Ted\", \"Sally\", \"Alex\", \"Sally\", \"Ted\"]\n",
    "names_set = set(names) # we can convert most things into a set with the set function\n",
    "print(names_set)"
   ]
  },
  {
   "cell_type": "markdown",
   "metadata": {},
   "source": [
    "What happens if we try to loop through a set? Is that allowed?"
   ]
  },
  {
   "cell_type": "code",
   "execution_count": 7,
   "metadata": {
    "collapsed": false
   },
   "outputs": [
    {
     "name": "stdout",
     "output_type": "stream",
     "text": [
      "Sally\n",
      "Ted\n",
      "Jane\n",
      "Alex\n"
     ]
    }
   ],
   "source": [
    "for name in names_set:\n",
    "    print(name)"
   ]
  },
  {
   "cell_type": "markdown",
   "metadata": {},
   "source": [
    "Well would you look at that. When you print out a set they come out in an order. And when you iterate through it you do so in an order. So how is this an unordered collection?\n",
    "\n",
    "Well for certain applications Python needs to decide on an order. For example if we took the set and converted it into a list then it would become ordered. What matters is that the order Python picks is *arbitrary*. The order it picks is because of some arcane implementation details deep in the Python interpreter because conceptually, philosophically sets are unordered."
   ]
  },
  {
   "cell_type": "markdown",
   "metadata": {},
   "source": [
    "## Dictionaries\n",
    "Dictionaries are what Python calls hashmaps with key value pairs. Like the (poorly named) objects of JavaScript. There are some important differences though. For one dictionaries do not support JS style dot notation. They are objects (in the object oriented sense, see what a bad name it is!) and so their methods are accessed by dot syntax. Let's make a simple tally."
   ]
  },
  {
   "cell_type": "code",
   "execution_count": 2,
   "metadata": {
    "collapsed": false
   },
   "outputs": [
    {
     "name": "stdout",
     "output_type": "stream",
     "text": [
      "1111\n"
     ]
    }
   ],
   "source": [
    "# A phone book\n",
    "pb = {\n",
    "    \"Jane\": 1111,\n",
    "    \"Sally\": 2222,\n",
    "    \"Ted\": 3333,\n",
    "    \"Alex\": 4444,\n",
    "}\n",
    "print(pb[\"Jane\"])"
   ]
  },
  {
   "cell_type": "markdown",
   "metadata": {},
   "source": [
    "So far so good. What happens if we try to read from an entry that doesn't exist? In JS it just comes back as undefined. In Python?"
   ]
  },
  {
   "cell_type": "code",
   "execution_count": 3,
   "metadata": {
    "collapsed": false
   },
   "outputs": [
    {
     "ename": "KeyError",
     "evalue": "'Clair'",
     "output_type": "error",
     "traceback": [
      "\u001b[1;31m---------------------------------------------------------------------------\u001b[0m",
      "\u001b[1;31mKeyError\u001b[0m                                  Traceback (most recent call last)",
      "Input \u001b[1;32mIn [3]\u001b[0m, in \u001b[0;36m<module>\u001b[1;34m\u001b[0m\n\u001b[1;32m----> 1\u001b[0m \u001b[38;5;28mprint\u001b[39m( \u001b[43mpb\u001b[49m\u001b[43m[\u001b[49m\u001b[38;5;124;43m\"\u001b[39;49m\u001b[38;5;124;43mClair\u001b[39;49m\u001b[38;5;124;43m\"\u001b[39;49m\u001b[43m]\u001b[49m )\n",
      "\u001b[1;31mKeyError\u001b[0m: 'Clair'"
     ]
    }
   ],
   "source": [
    "print( pb[\"Clair\"] )"
   ]
  },
  {
   "cell_type": "markdown",
   "metadata": {},
   "source": [
    "Oh snap! In python that's a straight up error hot stuff. Now there is a data structure in the standard library called a \"defaultdict\" that lets you set a default value in this case but Python makes it an error because it loves you. It doesn't want you making silly mistakes babe. So how do we check if something is a key? We use the in operator."
   ]
  },
  {
   "cell_type": "code",
   "execution_count": 4,
   "metadata": {
    "collapsed": false
   },
   "outputs": [
    {
     "name": "stdout",
     "output_type": "stream",
     "text": [
      "Alex is here!\n",
      "Clair isn't\n",
      "True\n",
      "False\n"
     ]
    }
   ],
   "source": [
    "if \"Alex\" in pb:\n",
    "    print(\"Alex is here!\")\n",
    "if not \"Clair\" in pb:\n",
    "    print(\"Clair isn't\")\n",
    "print(\"Jane\" in pb) # true\n",
    "print(\"Frank\" in pb) # false"
   ]
  },
  {
   "cell_type": "markdown",
   "metadata": {},
   "source": [
    "In works for other kinds of data structures too."
   ]
  },
  {
   "cell_type": "code",
   "execution_count": 14,
   "metadata": {
    "collapsed": false
   },
   "outputs": [
    {
     "name": "stdout",
     "output_type": "stream",
     "text": [
      "True\n",
      "True\n"
     ]
    }
   ],
   "source": [
    "names = [\"Jane\", \"Sally\", \"Ted\", \"Sally\", \"Alex\", \"Sally\", \"Ted\"]\n",
    "names_set = set(names) # we can convert most things into a set with the set function\n",
    "print(\"Jane\" in names) # true\n",
    "print(\"Jane\" in names_set) # also true"
   ]
  },
  {
   "cell_type": "markdown",
   "metadata": {},
   "source": [
    "So if you can check if something exists in a list then why even bother with sets? In short because they are much faster. Looking up if something is in a set or a key in a dictionary is an O(1) operation where looking up if something is in a list is an O(n) operation. Keep that in mind if you're working with larger datasets."
   ]
  },
  {
   "cell_type": "markdown",
   "metadata": {},
   "source": [
    "A common use case for dictionaries is tallying up data. There is another built in object for this in the standard library but we'll roll our own. We're cool that way."
   ]
  },
  {
   "cell_type": "code",
   "execution_count": 5,
   "metadata": {
    "collapsed": false
   },
   "outputs": [
    {
     "name": "stdout",
     "output_type": "stream",
     "text": [
      "{'Jane': 1, 'Sally': 3, 'Ted': 2, 'Alex': 1}\n"
     ]
    }
   ],
   "source": [
    "names = [\"Jane\", \"Sally\", \"Ted\", \"Sally\", \"Alex\", \"Sally\", \"Ted\"]\n",
    "\n",
    "tally = {} # we can create an empty dict with a pair of curly braces\n",
    "\n",
    "for name in names:\n",
    "    if not name in tally:\n",
    "        tally[name] = 0\n",
    "    tally[name] += 1\n",
    "\n",
    "print(tally)"
   ]
  },
  {
   "cell_type": "markdown",
   "metadata": {},
   "source": [
    "Coolbeans. How do we get the size of a dictionary? If you guessed with len... you're correct."
   ]
  },
  {
   "cell_type": "code",
   "execution_count": 8,
   "metadata": {
    "collapsed": false
   },
   "outputs": [
    {
     "name": "stdout",
     "output_type": "stream",
     "text": [
      "4\n"
     ]
    }
   ],
   "source": [
    "print( len(tally) )"
   ]
  },
  {
   "cell_type": "markdown",
   "metadata": {},
   "source": [
    "No `Object.keys(tally).length` garbage here. What about looping?"
   ]
  },
  {
   "cell_type": "markdown",
   "metadata": {},
   "source": [
    "## Fancy Looping"
   ]
  },
  {
   "cell_type": "code",
   "execution_count": 9,
   "metadata": {
    "collapsed": false
   },
   "outputs": [
    {
     "name": "stdout",
     "output_type": "stream",
     "text": [
      "Jane 1\n",
      "Sally 3\n",
      "Ted 2\n",
      "Alex 1\n"
     ]
    }
   ],
   "source": [
    "for key in tally:\n",
    "    print(key, tally[key])"
   ]
  },
  {
   "cell_type": "markdown",
   "metadata": {},
   "source": [
    "So we can loop through the keys in a dict no problem. In the above example we're also printing out the values by looking each up in tally by it's key. \n",
    "\n",
    "However.\n",
    "\n",
    "That's not Pythonic. We must be Pythonic. Guido's divine magesty demands it. Behold:"
   ]
  },
  {
   "cell_type": "code",
   "execution_count": 10,
   "metadata": {
    "collapsed": false
   },
   "outputs": [
    {
     "name": "stdout",
     "output_type": "stream",
     "text": [
      "('Jane', 1)\n",
      "('Sally', 3)\n",
      "('Ted', 2)\n",
      "('Alex', 1)\n"
     ]
    }
   ],
   "source": [
    "for item in tally.items():\n",
    "    print(item)"
   ]
  },
  {
   "cell_type": "markdown",
   "metadata": {},
   "source": [
    "Hey look at those! Are they... tuples perchance? Are you accusing me of *planning* this lesson or something? Well guess what we can write this in the Pythonic way now."
   ]
  },
  {
   "cell_type": "code",
   "execution_count": 15,
   "metadata": {
    "collapsed": false
   },
   "outputs": [
    {
     "name": "stdout",
     "output_type": "stream",
     "text": [
      "Jane 1\n",
      "Sally 3\n",
      "Ted 2\n",
      "Alex 1\n"
     ]
    }
   ],
   "source": [
    "for name, value in tally.items():\n",
    "    print(name, value)"
   ]
  },
  {
   "cell_type": "markdown",
   "metadata": {},
   "source": [
    "So if you need to loop through a *list* and you need the indicies? Check this out:"
   ]
  },
  {
   "cell_type": "code",
   "execution_count": 17,
   "metadata": {
    "collapsed": false
   },
   "outputs": [
    {
     "name": "stdout",
     "output_type": "stream",
     "text": [
      "[8, 4, 20, 22, 14, 16, 18]\n"
     ]
    }
   ],
   "source": [
    "ls = [4, 2, 10, 11, 7, 8, 9]\n",
    "\n",
    "for idx, num in enumerate(ls):\n",
    "    ls[idx] = num * 2\n",
    "\n",
    "print(ls)"
   ]
  },
  {
   "cell_type": "markdown",
   "metadata": {},
   "source": [
    "Sadly this isn't very Pythonic either although we are getting there. So if you want to double everything in a list how do?"
   ]
  },
  {
   "cell_type": "markdown",
   "metadata": {},
   "source": [
    "## Comprehensions, Comprende?\n",
    "Comprehensions are a big deal in Python and there is a lot to them. I'll be covering the tl;dr here. If you haven't used a language with this feature before it can be a little hard to get used to but once you do you'll be writing beautiful, concise, and above all Pythonic code. Let's dive right into an example:"
   ]
  },
  {
   "cell_type": "code",
   "execution_count": 3,
   "metadata": {
    "collapsed": false
   },
   "outputs": [
    {
     "name": "stdout",
     "output_type": "stream",
     "text": [
      "[8, 4, 20, 22, 14, 16, 18]\n",
      "[8, 4, 20, 22, 14, 16, 18]\n"
     ]
    }
   ],
   "source": [
    "ls = [4, 2, 10, 11, 7, 8, 9]\n",
    "\n",
    "ls_doubled = []\n",
    "for num in ls:\n",
    "    ls_doubled.append(num * 2)\n",
    "print(ls_doubled)\n",
    "\n",
    "ls_doubled2 = [num * 2 for num in ls]\n",
    "print(ls_doubled2)"
   ]
  },
  {
   "cell_type": "markdown",
   "metadata": {},
   "source": [
    "Witness the elegance and beauty of a list comprehension. While Python does have the familiar map and filter functions comprehensions are much preferred. This line is doing a lot of work:\n",
    "```python\n",
    "ls_doubled2 = [num * 2 for num in ls]\n",
    "```\n",
    "In one line we are:\n",
    "- Creating a new list\n",
    "- Looping through ls\n",
    "- Taking each element from ls and doubling it\n",
    "- Pushing that value to our new list\n",
    "- Returning the new list so we can use it later.\n",
    "\n",
    "The order of the elements in the comprehension might be a little confusing. Let's break it apart:\n",
    "\n",
    "```python\n",
    "[(an expression using a) for (a, an arbitrary variable name) in (the collection we are looping over)]\n",
    "```\n",
    "\n",
    "I mentioned filter a second ago. How do we eliminate elements from the list? Let's get rid of all the numbers greater than 8."
   ]
  },
  {
   "cell_type": "code",
   "execution_count": 4,
   "metadata": {
    "collapsed": false
   },
   "outputs": [
    {
     "name": "stdout",
     "output_type": "stream",
     "text": [
      "[4, 2, 7, 8]\n"
     ]
    }
   ],
   "source": [
    "ls = [4, 2, 10, 11, 7, 8, 9]\n",
    "ls_filtered = [num for num in ls if num <= 8]\n",
    "print(ls_filtered)"
   ]
  },
  {
   "cell_type": "markdown",
   "metadata": {},
   "source": [
    "Splendid. Perhaps we want to do both! Let's combine them!"
   ]
  },
  {
   "cell_type": "code",
   "execution_count": 5,
   "metadata": {
    "collapsed": false
   },
   "outputs": [
    {
     "name": "stdout",
     "output_type": "stream",
     "text": [
      "[8, 4, 14, 16]\n"
     ]
    }
   ],
   "source": [
    "ls = [4, 2, 10, 11, 7, 8, 9]\n",
    "ls_filtered_doubled = [num * 2 for num in ls if num <= 8]\n",
    "print(ls_filtered_doubled)"
   ]
  },
  {
   "cell_type": "markdown",
   "metadata": {},
   "source": [
    "## Excercise\n",
    "Document analysis"
   ]
  }
 ],
 "metadata": {
  "kernelspec": {
   "display_name": "Python 2",
   "language": "python",
   "name": "python2"
  },
  "language_info": {
   "codemirror_mode": {
    "name": "ipython",
    "version": 2
   },
   "file_extension": ".py",
   "mimetype": "text/x-python",
   "name": "python",
   "nbconvert_exporter": "python",
   "pygments_lexer": "ipython2",
   "version": "2.7.13"
  }
 },
 "nbformat": 4,
 "nbformat_minor": 4
}
