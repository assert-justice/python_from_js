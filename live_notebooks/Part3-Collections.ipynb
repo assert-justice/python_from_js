{
 "cells": [
  {
   "cell_type": "markdown",
   "metadata": {},
   "source": [
    "# Part 3 - Collections & Iterables\n",
    "This is a pretty big lesson and we have a lot of ground to cover. \n",
    "\n",
    "You're familiar with arrays and objects from JS. We can group data together in various useful ways like dynamic arrays, sets, key value pairs, and so on. These different structures are referred to as collections.\n",
    "\n",
    "Looping through the elements of an array or the keys in an object is a very common operation, common enough that it has been generalized into the concept of an \"iterable\". \n",
    "\n",
    "In JavaScript collections had their own methods, functions bound to the object in question. Python has these too but if a concept is more general it is made into a standalone function that can be passed several different types of objects and knows how to work with each one. This concept is referred to as \"duck typing\" (if it looks like a duck and quacks like a duck it's a duck, seriously) and if it seems abstract now I'll give lots of examples."
   ]
  },
  {
   "cell_type": "markdown",
   "metadata": {},
   "source": [
    "## Lists\n",
    "Python calls dynamic arrays lists. **Python lists are not linked lists**. They are regular dynamic arrays with the expected time complexities for different operations. "
   ]
  },
  {
   "cell_type": "code",
   "execution_count": 10,
   "metadata": {
    "collapsed": true
   },
   "outputs": [],
   "source": [
    "nums = [5, 7, 20, 14, 9, 8] # A list of integers."
   ]
  },
  {
   "cell_type": "markdown",
   "metadata": {},
   "source": [
    "We can access a value at an index with brackets like so."
   ]
  },
  {
   "cell_type": "code",
   "execution_count": 11,
   "metadata": {
    "collapsed": false
   },
   "outputs": [
    {
     "name": "stdout",
     "output_type": "stream",
     "text": [
      "14\n",
      "[5, 7, 20, 16, 9, 8]\n"
     ]
    }
   ],
   "source": [
    "print( nums[3] ) # prints 14, the integer at index 3\n",
    "nums[3] = 16 # sets the integer at index 3 to 16\n",
    "print(nums)"
   ]
  },
  {
   "cell_type": "markdown",
   "metadata": {},
   "source": [
    "Unlike JS negative indicies are supported. Check it out:"
   ]
  },
  {
   "cell_type": "code",
   "execution_count": 12,
   "metadata": {
    "collapsed": false
   },
   "outputs": [
    {
     "name": "stdout",
     "output_type": "stream",
     "text": [
      "8\n",
      "9\n"
     ]
    }
   ],
   "source": [
    "print( nums[-1] ) # prints 8, the last thing in the array\n",
    "print( nums[-2] ) # prints 9, the second to last thing in the array"
   ]
  },
  {
   "cell_type": "markdown",
   "metadata": {},
   "source": [
    "So that's handy. We can add a number to the end of the array with append. It's the equivalent of push."
   ]
  },
  {
   "cell_type": "code",
   "execution_count": 6,
   "metadata": {
    "collapsed": false
   },
   "outputs": [
    {
     "name": "stdout",
     "output_type": "stream",
     "text": [
      "[5, 7, 20, 14, 9, 8, 10]\n"
     ]
    }
   ],
   "source": [
    "nums.append(10)\n",
    "print(nums)"
   ]
  },
  {
   "cell_type": "markdown",
   "metadata": {},
   "source": [
    "We can remove something from the end of a list with pop."
   ]
  },
  {
   "cell_type": "code",
   "execution_count": 7,
   "metadata": {
    "collapsed": false
   },
   "outputs": [
    {
     "name": "stdout",
     "output_type": "stream",
     "text": [
      "[5, 7, 20, 14, 9, 8]\n",
      "10\n"
     ]
    }
   ],
   "source": [
    "val = nums.pop()\n",
    "print(nums) # the original list\n",
    "print(val) # the value we popped from the list"
   ]
  },
  {
   "cell_type": "markdown",
   "metadata": {},
   "source": [
    "If we want to remove a particular element we can pass pop an optional argument, an index to pop from."
   ]
  },
  {
   "cell_type": "code",
   "execution_count": 8,
   "metadata": {
    "collapsed": false
   },
   "outputs": [
    {
     "name": "stdout",
     "output_type": "stream",
     "text": [
      "[5, 7, 14, 9, 8]\n"
     ]
    }
   ],
   "source": [
    "nums.pop(2) # pop whatever is at index 2 (20)\n",
    "print(nums) # no more 20!"
   ]
  },
  {
   "cell_type": "markdown",
   "metadata": {},
   "source": [
    "We can also insert a number at an arbitrary point. Let's say we want to put 20 back at position 2."
   ]
  },
  {
   "cell_type": "code",
   "execution_count": 9,
   "metadata": {
    "collapsed": false
   },
   "outputs": [
    {
     "name": "stdout",
     "output_type": "stream",
     "text": [
      "[5, 7, 20, 14, 9, 8]\n"
     ]
    }
   ],
   "source": [
    "nums.insert(2, 20) # first argument is the index, second argument is the object to insert.\n",
    "print(nums)"
   ]
  },
  {
   "cell_type": "markdown",
   "metadata": {},
   "source": [
    "None of that shift unshift crap you're welcome. To get the length of a list we don't use a length method. We use a built in function called len."
   ]
  },
  {
   "cell_type": "code",
   "execution_count": 14,
   "metadata": {
    "collapsed": false
   },
   "outputs": [
    {
     "name": "stdout",
     "output_type": "stream",
     "text": [
      "[5, 7, 20, 16, 9, 8]\n",
      "6\n"
     ]
    }
   ],
   "source": [
    "print(nums)\n",
    "print( len(nums) )"
   ]
  },
  {
   "cell_type": "markdown",
   "metadata": {},
   "source": [
    "There are six things in the array! How can you determine if something is in a list? Easy! We have the in operator."
   ]
  },
  {
   "cell_type": "code",
   "execution_count": 15,
   "metadata": {
    "collapsed": false
   },
   "outputs": [
    {
     "name": "stdout",
     "output_type": "stream",
     "text": [
      "found a 7!\n",
      "no 50 here\n",
      "True\n",
      "False\n"
     ]
    }
   ],
   "source": [
    "if 7 in nums:\n",
    "    print(\"found a 7!\")\n",
    "if not 50 in nums:\n",
    "    print(\"no 50 here\")\n",
    "print( 9 in nums) # true\n",
    "print( 13 in nums) # false"
   ]
  },
  {
   "cell_type": "markdown",
   "metadata": {},
   "source": [
    "## Slicing and Concatenation"
   ]
  },
  {
   "cell_type": "markdown",
   "metadata": {},
   "source": [
    "## For Loops"
   ]
  },
  {
   "cell_type": "markdown",
   "metadata": {},
   "source": [
    "## Ranges"
   ]
  },
  {
   "cell_type": "markdown",
   "metadata": {},
   "source": [
    "## Strings and String Formatting"
   ]
  },
  {
   "cell_type": "markdown",
   "metadata": {},
   "source": [
    "## Tuples, just worse lists?"
   ]
  },
  {
   "cell_type": "markdown",
   "metadata": {},
   "source": [
    "## Mutable and Immutable Datatypes"
   ]
  },
  {
   "cell_type": "markdown",
   "metadata": {},
   "source": [
    "## Sets"
   ]
  },
  {
   "cell_type": "markdown",
   "metadata": {},
   "source": [
    "## Dictionaries"
   ]
  },
  {
   "cell_type": "markdown",
   "metadata": {},
   "source": [
    "## Other Iterator Functions\n",
    "sum, max, min, sorted, .sort"
   ]
  },
  {
   "cell_type": "markdown",
   "metadata": {},
   "source": [
    "## Comprehensions"
   ]
  },
  {
   "cell_type": "markdown",
   "metadata": {},
   "source": [
    "## Excercise\n",
    "Document analysis"
   ]
  }
 ],
 "metadata": {
  "kernelspec": {
   "display_name": "Python 3",
   "language": "python",
   "name": "python3"
  },
  "language_info": {
   "codemirror_mode": {
    "name": "ipython",
    "version": 3
   },
   "file_extension": ".py",
   "mimetype": "text/x-python",
   "name": "python",
   "nbconvert_exporter": "python",
   "pygments_lexer": "ipython3",
   "version": "3.6.0"
  }
 },
 "nbformat": 4,
 "nbformat_minor": 2
}
