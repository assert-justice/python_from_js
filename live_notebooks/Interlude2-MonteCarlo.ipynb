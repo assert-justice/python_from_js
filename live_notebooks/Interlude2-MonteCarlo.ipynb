{
 "cells": [
  {
   "cell_type": "markdown",
   "id": "f3bdd252-65ba-471c-9c74-e68128d6a034",
   "metadata": {},
   "source": [
    "# Interlude 2 - The Monte Carlo Sims\n",
    "It is wise to split your scripts up into functions such that each function has a clearly defined set of responsibilities and Monte Carlo Sims are just a lovely example of that.\n",
    "\n",
    "If you are playing poker, how likely are you to draw a royal flush? Well there are a few ways you could figure it out. You could crack open a statistics book and work it out, it's a fun excercise if you're a huge dork like me. More likely you would just look it up on Wikipedia or something. But there is another way.\n",
    "\n",
    "You could start dealing hands of cards. Keep track of how many hands you dealt. Shuffle thouroughly between hands. And leave a little tally mark every time you get a royal flush. The number of tally marks over the total number of hands will give you an estimate of how likely a royal flush is. The more hands you draw the better this estimate will be. Easy right?!\n",
    "\n",
    "Ok that sounds pretty tedious. Fortunately we have these things called \"computers\" that are really good at doing tedious bs over and over. Does this dumb technique have any practical uses? Why yes it does!\n",
    "\n",
    "Some systems, like the weather, are far too complicated for an analytic solution. Weather prediction is hard especially on a planet hurtling towards climate collapse. So to grossly oversimplify a very complex topic thing of weather simulations as performing this kind of test. Run with a bunch of random variables a bunch of times. If 10% of them result in rain then Bob's your uncle we have a 10% chance of rain. You'll probably be fine but maybe wear a hoodie just in case.\n",
    "\n",
    "We'll work through a few examples of increasing complexity. Strap in."
   ]
  },
  {
   "cell_type": "markdown",
   "id": "98a8b72e-485e-4a96-9b27-4f0d3d20508f",
   "metadata": {},
   "source": [
    "## Coin Flips\n",
    "\n",
    "A well balanced coin should land on heads when flipped 50% of the time. Pretty much by definition. Let's write some code to simulate that."
   ]
  },
  {
   "cell_type": "code",
   "execution_count": 6,
   "id": "b805c8b2-de08-4fb7-875a-5bf200fc530c",
   "metadata": {},
   "outputs": [
    {
     "name": "stdout",
     "output_type": "stream",
     "text": [
      "60.0%\n",
      "56.99999999999999%\n",
      "51.2%\n",
      "50.92%\n"
     ]
    }
   ],
   "source": [
    "import random\n",
    "\n",
    "def pretty_print(chance):\n",
    "    print(f\"{chance * 100}%\")\n",
    "\n",
    "def is_heads():\n",
    "    val = random.random()\n",
    "    return val < 0.5\n",
    "\n",
    "def flipper(tries):\n",
    "    heads = 0\n",
    "    for _ in range(tries):\n",
    "        if is_heads():\n",
    "            heads += 1\n",
    "    pretty_print(heads / tries)\n",
    "\n",
    "flipper(10)\n",
    "flipper(100)\n",
    "flipper(1000)\n",
    "flipper(10000)\n"
   ]
  },
  {
   "cell_type": "markdown",
   "id": "443f7db5-9ed8-48a8-a2d0-351ca797fbba",
   "metadata": {},
   "source": [
    "There you can see we have a few estimates for the coin flip. How well each run does in estimating the probability is itself random of course but it makes sense that on average you'll get more accurate results with a greater number of tries.\n",
    "\n",
    "Note that a Monte Carlo sim is nessesarily an imperical test. No matter how many tests you do you will never get the *exact* answer. Also there is a tradeoff because the more tests you do the longer your calculations take. If it takes you 24 hours to calculate the next days weather that doesn't do much good does it?"
   ]
  },
  {
   "cell_type": "markdown",
   "id": "86e6a24c-b8f0-49db-82e7-c10171b4249a",
   "metadata": {},
   "source": [
    "## Frogs of Life"
   ]
  },
  {
   "cell_type": "markdown",
   "id": "bfb8ace9-3f2d-4b22-8ff3-6f23cd36de6f",
   "metadata": {},
   "source": [
    "## PI Estimator"
   ]
  },
  {
   "cell_type": "markdown",
   "id": "02a01723-0c0f-40cb-b059-5132e094b393",
   "metadata": {},
   "source": [
    "## Excercise: Monte Carlo for Monte Hall\n",
    "\n",
    "Obviously my audience of decrepit boomers is intimately familiar with Monte Hall and his game show let's make a deal. But if you need a refresher:"
   ]
  }
 ],
 "metadata": {
  "kernelspec": {
   "display_name": "Python 3 (ipykernel)",
   "language": "python",
   "name": "python3"
  },
  "language_info": {
   "codemirror_mode": {
    "name": "ipython",
    "version": 3
   },
   "file_extension": ".py",
   "mimetype": "text/x-python",
   "name": "python",
   "nbconvert_exporter": "python",
   "pygments_lexer": "ipython3",
   "version": "3.9.7"
  }
 },
 "nbformat": 4,
 "nbformat_minor": 5
}
