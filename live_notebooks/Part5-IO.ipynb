{
 "cells": [
  {
   "cell_type": "markdown",
   "id": "42ab0ff7-d996-4be6-8205-ad7273fa0e81",
   "metadata": {},
   "source": [
    "# Part 5 - Input and Output\n",
    "\n",
    "In a perfect world our program can remain beautiful, pure, unsullied by the indignity of actually being run. At some point however grubby humans will get their grubby hands on it. Alac alas."
   ]
  },
  {
   "cell_type": "markdown",
   "id": "ef4449d3-db45-41e7-b2ab-3c39ec7e15db",
   "metadata": {},
   "source": [
    "## Command Line Arguments"
   ]
  },
  {
   "cell_type": "markdown",
   "id": "0e8a9a22-f75a-4be8-96c4-13813a15b619",
   "metadata": {},
   "source": [
    "## User Input"
   ]
  },
  {
   "cell_type": "markdown",
   "id": "c47b054d-3e9d-4857-b9a2-e82b27626e5d",
   "metadata": {},
   "source": [
    "## Reading and Writing Files"
   ]
  }
 ],
 "metadata": {
  "kernelspec": {
   "display_name": "Python 3 (ipykernel)",
   "language": "python",
   "name": "python3"
  },
  "language_info": {
   "codemirror_mode": {
    "name": "ipython",
    "version": 3
   },
   "file_extension": ".py",
   "mimetype": "text/x-python",
   "name": "python",
   "nbconvert_exporter": "python",
   "pygments_lexer": "ipython3",
   "version": "3.9.7"
  }
 },
 "nbformat": 4,
 "nbformat_minor": 5
}
