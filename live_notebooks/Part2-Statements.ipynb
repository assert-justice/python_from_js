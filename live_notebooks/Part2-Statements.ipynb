{
 "cells": [
  {
   "cell_type": "markdown",
   "metadata": {},
   "source": [
    "# Part 2 - Statements\n",
    "You should already be familiar with common statements like if, while, for, and so on. Unlike an expression a statement does not evaluate to anything. Instead it changes the state of our program, by assigning a variable a new value, by manipulating control flow, handling errors, etc.\n",
    "\n",
    "As you might expect Python statements often work a little differently from their JavaScript counterparts. The most obvious difference is the syntax though so let's tackle that first.\n",
    "\n",
    "## Assignment\n",
    "No don't worry I don't have homework for you. Let's talk about how assignment works in Python."
   ]
  },
  {
   "cell_type": "code",
   "execution_count": 2,
   "metadata": {
    "collapsed": false
   },
   "outputs": [
    {
     "name": "stdout",
     "output_type": "stream",
     "text": [
      "2\n"
     ]
    }
   ],
   "source": [
    "a = 1\n",
    "a = 2\n",
    "print(a)"
   ]
  },
  {
   "cell_type": "markdown",
   "metadata": {},
   "source": [
    "Well that's simple enough. No var or let or const. In JS as with most languages initializing a variable and reassigning a variables value uses different syntax. Consider:\n",
    "\n",
    "```javascript\n",
    "let a = 1; // variable creation and assignment uses a keyword\n",
    "a = 2; // reassigning the variable does not\n",
    "console.log(a);\n",
    "```\n",
    "\n",
    "Well in Python we don't use a special keyword. This has some ramifications for scope that we'll cover later."
   ]
  },
  {
   "cell_type": "markdown",
   "metadata": {},
   "source": [
    "## If Statements\n",
    "In JS blocks of code were denoted by braces. This is typical for all the languages that use c-style syntax. Instead Python uses indentation. This is the number one thing that people who don't like Python's syntax don't like. I do like it, it forces you to format your code in a readable way and if you're working with a team you all need to be on the same page about indentation rules. Anyway let's look at an example:"
   ]
  },
  {
   "cell_type": "code",
   "execution_count": 6,
   "metadata": {
    "collapsed": false
   },
   "outputs": [
    {
     "name": "stdout",
     "output_type": "stream",
     "text": [
      "you are not old enough!\n"
     ]
    }
   ],
   "source": [
    "age = 16\n",
    "if age < 18:\n",
    "    print(\"you are not old enough!\")"
   ]
  },
  {
   "cell_type": "markdown",
   "metadata": {},
   "source": [
    "So a couple things to note here.\n",
    "1. The conditional does not have parenthises around it. They are required in JS but optional in Python.\n",
    "2. After the conditional there is a colon, a newline, and an indented block of code with a print function in it. Most IDEs seem to have settled on an indent being four spaces although others use two spaces or a tab or God knows what.\n",
    "\n",
    "Let's look at a chain of if statements."
   ]
  },
  {
   "cell_type": "code",
   "execution_count": 7,
   "metadata": {
    "collapsed": false
   },
   "outputs": [
    {
     "name": "stdout",
     "output_type": "stream",
     "text": [
      "You are not old enough.\n"
     ]
    }
   ],
   "source": [
    "age = 16\n",
    "if age < 18:\n",
    "    print(\"You are not old enough.\")\n",
    "elif age < 21:\n",
    "    print(\"You are almost old enough.\")\n",
    "else:\n",
    "    print(\"You are old enough!\")"
   ]
  },
  {
   "cell_type": "markdown",
   "metadata": {},
   "source": [
    "Python has this elif keyword. This is short for the \"else if\" that JS, C, and the usual suspects have. It being its own keyword is convenient for how the parser works, the program that reads your code and transforms it into something the Python interpreter can actually run. This way is arguably less ambigous."
   ]
  },
  {
   "cell_type": "markdown",
   "metadata": {},
   "source": [
    "## Handling User Input, the short version\n",
    "TODO"
   ]
  },
  {
   "cell_type": "markdown",
   "metadata": {},
   "source": [
    "## While Loops\n",
    "You'll be familiar with while loops let's while away the hours and write some loops."
   ]
  },
  {
   "cell_type": "code",
   "execution_count": 8,
   "metadata": {
    "collapsed": false
   },
   "outputs": [
    {
     "name": "stdout",
     "output_type": "stream",
     "text": [
      "0\n",
      "1\n",
      "2\n",
      "3\n",
      "4\n",
      "5\n",
      "6\n",
      "7\n",
      "8\n",
      "9\n"
     ]
    }
   ],
   "source": [
    "count = 10\n",
    "i = 0\n",
    "while i < count:\n",
    "    print(i)\n",
    "    i += 1"
   ]
  },
  {
   "cell_type": "markdown",
   "metadata": {},
   "source": [
    "As I say this should look pretty familiar. When you're writing while loops like this it's very easy to forget the += 1 especially when you write more complicated loops. You don't want to get stuck forever do you?\n",
    "\n",
    "You also might be wondering about for loops. All in good time.\n",
    "\n",
    "Let's write a FizzBuzz!"
   ]
  },
  {
   "cell_type": "code",
   "execution_count": 11,
   "metadata": {
    "collapsed": false
   },
   "outputs": [
    {
     "name": "stdout",
     "output_type": "stream",
     "text": [
      "0 FizzBuzz\n",
      "1 \n",
      "2 \n",
      "3 Fizz\n",
      "4 \n",
      "5 Buzz\n",
      "6 Fizz\n",
      "7 \n",
      "8 \n",
      "9 Fizz\n",
      "10 Buzz\n",
      "11 \n",
      "12 Fizz\n",
      "13 \n",
      "14 \n",
      "15 FizzBuzz\n",
      "16 \n",
      "17 \n",
      "18 Fizz\n",
      "19 \n"
     ]
    }
   ],
   "source": [
    "count = 20\n",
    "i = 0\n",
    "while i < count:\n",
    "    message = \"\"\n",
    "    if i % 3 == 0:\n",
    "        message += \"Fizz\"\n",
    "    if i % 5 == 0:\n",
    "        message += \"Buzz\"\n",
    "    print(i, message)\n",
    "    i += 1"
   ]
  },
  {
   "cell_type": "markdown",
   "metadata": {},
   "source": [
    "#### Nested Loops\n",
    "I heard you liked while loops so I put a while loop in your while loop so you can while while you while.\n",
    "\n",
    "This script prints out all the unique combinations of two digits from 1 to 4."
   ]
  },
  {
   "cell_type": "code",
   "execution_count": 25,
   "metadata": {
    "collapsed": false
   },
   "outputs": [
    {
     "name": "stdout",
     "output_type": "stream",
     "text": [
      "1 1\n",
      "1 2\n",
      "1 3\n",
      "1 4\n",
      "2 1\n",
      "2 2\n",
      "2 3\n",
      "2 4\n",
      "3 1\n",
      "3 2\n",
      "3 3\n",
      "3 4\n",
      "4 1\n",
      "4 2\n",
      "4 3\n",
      "4 4\n"
     ]
    }
   ],
   "source": [
    "i = 1\n",
    "while i < 5:\n",
    "    f = 1\n",
    "    while f < 5:\n",
    "        print(i, f)\n",
    "        f += 1\n",
    "    i += 1"
   ]
  },
  {
   "cell_type": "markdown",
   "metadata": {},
   "source": [
    "If you add each pair together which number is most common and why?"
   ]
  },
  {
   "cell_type": "markdown",
   "metadata": {},
   "source": [
    "You should be aware of the break and continue keywords, a quality bootcamp would certainly at least bring them up. Break is used to prematurely end a loop. Continue skips the rest of the loop and proceeds to the next one at once.\n",
    "\n",
    "Break in particular is great for escaping otherwise infinite loops. Let's look at an example."
   ]
  },
  {
   "cell_type": "code",
   "execution_count": 20,
   "metadata": {
    "collapsed": false
   },
   "outputs": [
    {
     "name": "stdout",
     "output_type": "stream",
     "text": [
      "13\n"
     ]
    }
   ],
   "source": [
    "from random import randrange as rr # do as I say, not as I do\n",
    "tries = 0\n",
    "while True:\n",
    "    val = rr(1, 7) + rr(1, 7) + rr(1, 7)\n",
    "    if val == 18:\n",
    "        break\n",
    "    tries += 1\n",
    "print(tries)"
   ]
  },
  {
   "cell_type": "markdown",
   "metadata": {},
   "source": [
    "This script rolls 3d6 over and over again until it gets a maximum roll of 18. Then it prints how many rolls were needed to get that result. You might get lucky or unlucky, after running it a few times the worst result I got was about 400 rolls, the best was 13.\n",
    "\n",
    "Let's look at a more fun example of a loop where we don't know how many steps it will take. Introducing:\n",
    "\n",
    "## The Collatz Conjecture\n",
    "Dun dun dunnnn. It's not too scary I promise. Consider the following given procedure:\n",
    "\n",
    "- Take a number n\n",
    "- If it is even divide it by 2\n",
    "- Otherwise multiply it by 3 and add 1\n",
    "\n",
    "You can repeat this process as many times as you like. What happens?\n",
    "\n",
    "Well the Collatz Conjecture says that every number will eventually get to 1. It's a conjecture because mathematitians simply don't know how to prove one way or another. A whole bunch of numbers have been tried and they all eventually make it to one. Let's take this repeated procedure and turn it into a loop."
   ]
  },
  {
   "cell_type": "code",
   "execution_count": 21,
   "metadata": {
    "collapsed": false
   },
   "outputs": [
    {
     "name": "stdout",
     "output_type": "stream",
     "text": [
      "22\n",
      "11\n",
      "34\n",
      "17\n",
      "52\n",
      "26\n",
      "13\n",
      "40\n",
      "20\n",
      "10\n",
      "5\n",
      "16\n",
      "8\n",
      "4\n",
      "2\n",
      "1\n",
      "steps: 16\n"
     ]
    }
   ],
   "source": [
    "n = 7\n",
    "steps = 0\n",
    "while n > 1:\n",
    "    if n % 2 == 0:\n",
    "        n = n // 2\n",
    "    else:\n",
    "        n = n * 3 + 1\n",
    "    print(n)\n",
    "    steps += 1\n",
    "print(\"steps:\", steps)"
   ]
  },
  {
   "cell_type": "markdown",
   "metadata": {},
   "source": [
    "Looks pretty tidy doesn't it! Remember the // operator isn't a comment, it enforces integer division. What happens if you use regular division instead?"
   ]
  },
  {
   "cell_type": "markdown",
   "metadata": {},
   "source": [
    "## Exercise\n",
    "1. Write a loop that rolls a number of large dice like 10d100 several times. Write a loop that will roll those dice 100 times and print out the highest roll you got.\n",
    "2. This Collatz Conjecture is neat. Write a loop in a loop. For each number less than 1000 check how many steps it takes to get to one. Print out the number that takes the most steps and how many steps it takes.\n",
    "3. Call a family member or friend you haven't talked to in a while. Code isn't everything you know!"
   ]
  }
 ],
 "metadata": {
  "kernelspec": {
   "display_name": "Python 3",
   "language": "python",
   "name": "python3"
  },
  "language_info": {
   "codemirror_mode": {
    "name": "ipython",
    "version": 3
   },
   "file_extension": ".py",
   "mimetype": "text/x-python",
   "name": "python",
   "nbconvert_exporter": "python",
   "pygments_lexer": "ipython3",
   "version": "3.6.0"
  }
 },
 "nbformat": 4,
 "nbformat_minor": 2
}
